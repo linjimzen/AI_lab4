{
  "cells": [
    {
      "cell_type": "markdown",
      "metadata": {
        "id": "U3at1mhslz9v"
      },
      "source": [
        "##掛載雲端硬碟\n"
      ]
    },
    {
      "cell_type": "code",
      "execution_count": null,
      "metadata": {
        "id": "ijtFdN9tl14V",
        "colab": {
          "base_uri": "https://localhost:8080/"
        },
        "outputId": "ff1a6064-3b1c-4f0a-f080-5adffad7bf45"
      },
      "outputs": [
        {
          "output_type": "stream",
          "name": "stdout",
          "text": [
            "Mounted at /content/drive\n"
          ]
        }
      ],
      "source": [
        "from google.colab import drive\n",
        "drive.mount('/content/drive')"
      ]
    },
    {
      "cell_type": "markdown",
      "metadata": {
        "id": "q5bhyRZrl4X2"
      },
      "source": [
        "##更改檔案所在路徑"
      ]
    },
    {
      "cell_type": "code",
      "execution_count": null,
      "metadata": {
        "id": "f2RXiD5Bl6a2",
        "colab": {
          "base_uri": "https://localhost:8080/"
        },
        "outputId": "f6a57bfe-dc8a-49cc-a330-e00496016e42"
      },
      "outputs": [
        {
          "output_type": "stream",
          "name": "stdout",
          "text": [
            "/content/drive/MyDrive/Colab Notebooks/AI_lab4\n"
          ]
        }
      ],
      "source": [
        "# Change to your own folder !!!\n",
        "%cd /content/drive/MyDrive/Colab Notebooks/AI_lab4"
      ]
    },
    {
      "cell_type": "markdown",
      "metadata": {
        "id": "gSal5HL0lTHA"
      },
      "source": [
        "## Import library"
      ]
    },
    {
      "cell_type": "code",
      "execution_count": null,
      "metadata": {
        "id": "6v2iM_kglWj-"
      },
      "outputs": [],
      "source": [
        "from __future__ import print_function\n",
        "import os\n",
        "import argparse\n",
        "\n",
        "import torch\n",
        "import torch.nn as nn\n",
        "import torch.nn.functional as F\n",
        "import torch.optim as optim\n",
        "from torchvision import datasets, transforms\n",
        "from torch.autograd import Variable\n",
        "\n",
        "from models import vgg"
      ]
    },
    {
      "cell_type": "markdown",
      "metadata": {
        "id": "yFgiQGL6mq6W"
      },
      "source": [
        "## 設定超參數 PRUNE=0.9"
      ]
    },
    {
      "cell_type": "code",
      "execution_count": null,
      "metadata": {
        "id": "a8FQ-IsUmqtP"
      },
      "outputs": [],
      "source": [
        "TRAIN_BATCH_SIZE = 100\n",
        "TEST_BATCH_SIZE = 1000\n",
        "EPOCHS = 20\n",
        "LEARNING_RATE = 0.1\n",
        "MOMENTUM = 0.9\n",
        "WEIGHT_DECAY = 1e-4\n",
        "LOG_INTERVAL = 100\n",
        "CUDA = True\n",
        "SEED = 1\n",
        "\n",
        "RESUME = True\n",
        "START_EPOCH = 0\n",
        "\n",
        "PRUNE_PATH = '/content/drive/MyDrive/Colab Notebooks/model_prune.pth'\n",
        "PRUNE_FINETUNE_PATH = '/content/drive/MyDrive/Colab Notebooks/model_prune_finetune.pth'\n"
      ]
    },
    {
      "cell_type": "markdown",
      "metadata": {
        "id": "Yk2vUEvtE8H3"
      },
      "source": [
        "####檢查是否檢查是否可使用GPU"
      ]
    },
    {
      "cell_type": "code",
      "execution_count": null,
      "metadata": {
        "id": "_Sa1Tmnym3Pn"
      },
      "outputs": [],
      "source": [
        "if(torch.cuda.is_available()):\n",
        "    CUDA = True\n",
        "    kwargs = {'num_workers': 1, 'pin_memory': True}\n",
        "    torch.cuda.manual_seed(SEED)\n",
        "else:\n",
        "    CUDA = False\n",
        "    kwargs = {}\n"
      ]
    },
    {
      "cell_type": "markdown",
      "metadata": {
        "id": "fylf4FTlm7QX"
      },
      "source": [
        "##下載資料集\n"
      ]
    },
    {
      "cell_type": "markdown",
      "metadata": {
        "id": "erS9S_76nUsG"
      },
      "source": [
        "這裡將訓練集做Augmentation(Pad, RandCrop, Random)，測試集不用做Augmentation"
      ]
    },
    {
      "cell_type": "code",
      "execution_count": null,
      "metadata": {
        "id": "vBW21uIHm_C-",
        "colab": {
          "base_uri": "https://localhost:8080/"
        },
        "outputId": "a94caa27-ef96-439b-ff02-2f11938407f3"
      },
      "outputs": [
        {
          "output_type": "stream",
          "name": "stdout",
          "text": [
            "Files already downloaded and verified\n"
          ]
        }
      ],
      "source": [
        "#### DATASET ####\n",
        "train_loader = torch.utils.data.DataLoader(\n",
        "    datasets.CIFAR10('./data', train=True, download=True,\n",
        "                   transform=transforms.Compose([\n",
        "                       transforms.Pad(4),\n",
        "                       transforms.RandomCrop(32),\n",
        "                       transforms.RandomHorizontalFlip(),\n",
        "                       transforms.ToTensor(),\n",
        "                       transforms.Normalize((0.5, 0.5, 0.5), (0.5, 0.5, 0.5))\n",
        "                   ])),\n",
        "    batch_size=TRAIN_BATCH_SIZE, shuffle=True, **kwargs)\n",
        "test_loader = torch.utils.data.DataLoader(\n",
        "    datasets.CIFAR10('./data', train=False, transform=transforms.Compose([\n",
        "                       transforms.ToTensor(),\n",
        "                       transforms.Normalize((0.5, 0.5, 0.5), (0.5, 0.5, 0.5))\n",
        "                   ])),\n",
        "    batch_size=TEST_BATCH_SIZE, shuffle=True, **kwargs)"
      ]
    },
    {
      "cell_type": "markdown",
      "metadata": {
        "id": "Is49FKBbuRj2"
      },
      "source": [
        "## 載入剪枝後的網路與權重"
      ]
    },
    {
      "cell_type": "code",
      "execution_count": null,
      "metadata": {
        "id": "SUbUcHN4uQ89",
        "colab": {
          "base_uri": "https://localhost:8080/"
        },
        "outputId": "645592ac-f07b-4177-8f27-3df59ef26f31"
      },
      "outputs": [
        {
          "output_type": "stream",
          "name": "stdout",
          "text": [
            "RESUME PRUNE MODEL\n"
          ]
        }
      ],
      "source": [
        "model = None\n",
        "if(RESUME):\n",
        "  checkpoint = torch.load(PRUNE_PATH)\n",
        "  model = vgg(cfg=checkpoint['cfg'])\n",
        "  model.load_state_dict(checkpoint['state_dict'])\n",
        "\n",
        "  print('RESUME PRUNE MODEL')\n",
        "\n",
        "if CUDA:\n",
        "    model.cuda()"
      ]
    },
    {
      "cell_type": "markdown",
      "metadata": {
        "id": "ZC8ECoKHu7iF"
      },
      "source": [
        "##設定Optimizer，這裡使用Stocastic Gradient Descent with"
      ]
    },
    {
      "cell_type": "code",
      "execution_count": null,
      "metadata": {
        "id": "EQ-soeyWvGyM"
      },
      "outputs": [],
      "source": [
        "optimizer = optim.SGD(model.parameters(), lr=LEARNING_RATE, momentum=MOMENTUM, weight_decay=WEIGHT_DECAY)"
      ]
    },
    {
      "cell_type": "markdown",
      "metadata": {
        "id": "gR2UTh0iwbEF"
      },
      "source": [
        "## 定義訓練跟測試函數"
      ]
    },
    {
      "cell_type": "code",
      "execution_count": null,
      "metadata": {
        "id": "hQcKuMDee46V",
        "colab": {
          "base_uri": "https://localhost:8080/"
        },
        "outputId": "31f654f4-d056-4699-e17b-1a57c387cbaf"
      },
      "outputs": [
        {
          "output_type": "stream",
          "name": "stdout",
          "text": [
            "\n",
            "Train Epoch: 0 [0/50000 (0.0%)]\tLoss: 2.325958\n",
            "\n",
            "Train Epoch: 0 [10000/50000 (20.0%)]\tLoss: 1.674084\n",
            "\n",
            "Train Epoch: 0 [20000/50000 (40.0%)]\tLoss: 1.654205\n",
            "\n",
            "Train Epoch: 0 [30000/50000 (60.0%)]\tLoss: 1.529044\n",
            "\n",
            "Train Epoch: 0 [40000/50000 (80.0%)]\tLoss: 1.480993\n",
            "\n",
            "Test set: Average loss: 1.4555, Accuracy: 4304/10000 (43.0%)\n",
            "\n",
            "\n",
            "Train Epoch: 1 [0/50000 (0.0%)]\tLoss: 1.397161\n",
            "\n",
            "Train Epoch: 1 [10000/50000 (20.0%)]\tLoss: 1.534511\n",
            "\n",
            "Train Epoch: 1 [20000/50000 (40.0%)]\tLoss: 1.429140\n",
            "\n",
            "Train Epoch: 1 [30000/50000 (60.0%)]\tLoss: 1.255584\n",
            "\n",
            "Train Epoch: 1 [40000/50000 (80.0%)]\tLoss: 1.273095\n",
            "\n",
            "Test set: Average loss: 1.2409, Accuracy: 4836/10000 (48.4%)\n",
            "\n",
            "\n",
            "Train Epoch: 2 [0/50000 (0.0%)]\tLoss: 1.149191\n",
            "\n",
            "Train Epoch: 2 [10000/50000 (20.0%)]\tLoss: 1.312038\n",
            "\n",
            "Train Epoch: 2 [20000/50000 (40.0%)]\tLoss: 1.121029\n",
            "\n",
            "Train Epoch: 2 [30000/50000 (60.0%)]\tLoss: 1.238832\n",
            "\n",
            "Train Epoch: 2 [40000/50000 (80.0%)]\tLoss: 1.298059\n",
            "\n",
            "Test set: Average loss: 2.2656, Accuracy: 3355/10000 (33.5%)\n",
            "\n",
            "\n",
            "Train Epoch: 3 [0/50000 (0.0%)]\tLoss: 1.175969\n",
            "\n",
            "Train Epoch: 3 [10000/50000 (20.0%)]\tLoss: 1.231511\n",
            "\n",
            "Train Epoch: 3 [20000/50000 (40.0%)]\tLoss: 1.295221\n",
            "\n",
            "Train Epoch: 3 [30000/50000 (60.0%)]\tLoss: 1.227451\n",
            "\n",
            "Train Epoch: 3 [40000/50000 (80.0%)]\tLoss: 1.066135\n",
            "\n",
            "Test set: Average loss: 1.6159, Accuracy: 3964/10000 (39.6%)\n",
            "\n",
            "\n",
            "Train Epoch: 4 [0/50000 (0.0%)]\tLoss: 1.197057\n",
            "\n",
            "Train Epoch: 4 [10000/50000 (20.0%)]\tLoss: 1.067332\n",
            "\n",
            "Train Epoch: 4 [20000/50000 (40.0%)]\tLoss: 1.206082\n",
            "\n",
            "Train Epoch: 4 [30000/50000 (60.0%)]\tLoss: 1.063652\n",
            "\n",
            "Train Epoch: 4 [40000/50000 (80.0%)]\tLoss: 1.002167\n",
            "\n",
            "Test set: Average loss: 1.4193, Accuracy: 3993/10000 (39.9%)\n",
            "\n",
            "\n",
            "Train Epoch: 5 [0/50000 (0.0%)]\tLoss: 1.111964\n",
            "\n",
            "Train Epoch: 5 [10000/50000 (20.0%)]\tLoss: 0.978993\n",
            "\n",
            "Train Epoch: 5 [20000/50000 (40.0%)]\tLoss: 0.944490\n",
            "\n",
            "Train Epoch: 5 [30000/50000 (60.0%)]\tLoss: 1.055514\n",
            "\n",
            "Train Epoch: 5 [40000/50000 (80.0%)]\tLoss: 0.978191\n",
            "\n",
            "Test set: Average loss: 1.1028, Accuracy: 5921/10000 (59.2%)\n",
            "\n",
            "\n",
            "Train Epoch: 6 [0/50000 (0.0%)]\tLoss: 0.895155\n",
            "\n",
            "Train Epoch: 6 [10000/50000 (20.0%)]\tLoss: 1.266885\n",
            "\n",
            "Train Epoch: 6 [20000/50000 (40.0%)]\tLoss: 1.051340\n",
            "\n",
            "Train Epoch: 6 [30000/50000 (60.0%)]\tLoss: 0.808961\n",
            "\n",
            "Train Epoch: 6 [40000/50000 (80.0%)]\tLoss: 0.928997\n",
            "\n",
            "Test set: Average loss: 0.9430, Accuracy: 6631/10000 (66.3%)\n",
            "\n",
            "\n",
            "Train Epoch: 7 [0/50000 (0.0%)]\tLoss: 0.789430\n",
            "\n",
            "Train Epoch: 7 [10000/50000 (20.0%)]\tLoss: 0.723976\n",
            "\n",
            "Train Epoch: 7 [20000/50000 (40.0%)]\tLoss: 0.666346\n",
            "\n",
            "Train Epoch: 7 [30000/50000 (60.0%)]\tLoss: 0.863523\n",
            "\n",
            "Train Epoch: 7 [40000/50000 (80.0%)]\tLoss: 0.854502\n",
            "\n",
            "Test set: Average loss: 0.9644, Accuracy: 6843/10000 (68.4%)\n",
            "\n",
            "\n",
            "Train Epoch: 8 [0/50000 (0.0%)]\tLoss: 0.607560\n",
            "\n",
            "Train Epoch: 8 [10000/50000 (20.0%)]\tLoss: 0.675075\n",
            "\n",
            "Train Epoch: 8 [20000/50000 (40.0%)]\tLoss: 0.801539\n",
            "\n",
            "Train Epoch: 8 [30000/50000 (60.0%)]\tLoss: 0.536109\n",
            "\n",
            "Train Epoch: 8 [40000/50000 (80.0%)]\tLoss: 0.713136\n",
            "\n",
            "Test set: Average loss: 0.9882, Accuracy: 6899/10000 (69.0%)\n",
            "\n",
            "\n",
            "Train Epoch: 9 [0/50000 (0.0%)]\tLoss: 0.688657\n",
            "\n",
            "Train Epoch: 9 [10000/50000 (20.0%)]\tLoss: 0.624750\n",
            "\n",
            "Train Epoch: 9 [20000/50000 (40.0%)]\tLoss: 0.600239\n",
            "\n",
            "Train Epoch: 9 [30000/50000 (60.0%)]\tLoss: 0.712818\n",
            "\n",
            "Train Epoch: 9 [40000/50000 (80.0%)]\tLoss: 0.923839\n",
            "\n",
            "Test set: Average loss: 1.1263, Accuracy: 5689/10000 (56.9%)\n",
            "\n",
            "\n",
            "Train Epoch: 10 [0/50000 (0.0%)]\tLoss: 0.648707\n",
            "\n",
            "Train Epoch: 10 [10000/50000 (20.0%)]\tLoss: 0.632520\n",
            "\n",
            "Train Epoch: 10 [20000/50000 (40.0%)]\tLoss: 0.420465\n",
            "\n",
            "Train Epoch: 10 [30000/50000 (60.0%)]\tLoss: 0.343251\n",
            "\n",
            "Train Epoch: 10 [40000/50000 (80.0%)]\tLoss: 0.463003\n",
            "\n",
            "Test set: Average loss: 0.5452, Accuracy: 8355/10000 (83.6%)\n",
            "\n",
            "\n",
            "Train Epoch: 11 [0/50000 (0.0%)]\tLoss: 0.637528\n",
            "\n",
            "Train Epoch: 11 [10000/50000 (20.0%)]\tLoss: 0.463064\n",
            "\n",
            "Train Epoch: 11 [20000/50000 (40.0%)]\tLoss: 0.398839\n",
            "\n",
            "Train Epoch: 11 [30000/50000 (60.0%)]\tLoss: 0.415078\n",
            "\n",
            "Train Epoch: 11 [40000/50000 (80.0%)]\tLoss: 0.384932\n",
            "\n",
            "Test set: Average loss: 0.5315, Accuracy: 8405/10000 (84.1%)\n",
            "\n",
            "\n",
            "Train Epoch: 12 [0/50000 (0.0%)]\tLoss: 0.247489\n",
            "\n",
            "Train Epoch: 12 [10000/50000 (20.0%)]\tLoss: 0.405159\n",
            "\n",
            "Train Epoch: 12 [20000/50000 (40.0%)]\tLoss: 0.341054\n",
            "\n",
            "Train Epoch: 12 [30000/50000 (60.0%)]\tLoss: 0.431165\n",
            "\n",
            "Train Epoch: 12 [40000/50000 (80.0%)]\tLoss: 0.339348\n",
            "\n",
            "Test set: Average loss: 0.5112, Accuracy: 8499/10000 (85.0%)\n",
            "\n",
            "\n",
            "Train Epoch: 13 [0/50000 (0.0%)]\tLoss: 0.388344\n",
            "\n",
            "Train Epoch: 13 [10000/50000 (20.0%)]\tLoss: 0.296408\n",
            "\n",
            "Train Epoch: 13 [20000/50000 (40.0%)]\tLoss: 0.501590\n",
            "\n",
            "Train Epoch: 13 [30000/50000 (60.0%)]\tLoss: 0.362233\n",
            "\n",
            "Train Epoch: 13 [40000/50000 (80.0%)]\tLoss: 0.319156\n",
            "\n",
            "Test set: Average loss: 0.5077, Accuracy: 8506/10000 (85.1%)\n",
            "\n",
            "\n",
            "Train Epoch: 14 [0/50000 (0.0%)]\tLoss: 0.485956\n",
            "\n",
            "Train Epoch: 14 [10000/50000 (20.0%)]\tLoss: 0.378289\n",
            "\n",
            "Train Epoch: 14 [20000/50000 (40.0%)]\tLoss: 0.360971\n",
            "\n",
            "Train Epoch: 14 [30000/50000 (60.0%)]\tLoss: 0.402161\n",
            "\n",
            "Train Epoch: 14 [40000/50000 (80.0%)]\tLoss: 0.312661\n",
            "\n",
            "Test set: Average loss: 0.5084, Accuracy: 8509/10000 (85.1%)\n",
            "\n",
            "\n",
            "Train Epoch: 15 [0/50000 (0.0%)]\tLoss: 0.281098\n",
            "\n",
            "Train Epoch: 15 [10000/50000 (20.0%)]\tLoss: 0.442899\n",
            "\n",
            "Train Epoch: 15 [20000/50000 (40.0%)]\tLoss: 0.295438\n",
            "\n",
            "Train Epoch: 15 [30000/50000 (60.0%)]\tLoss: 0.354806\n",
            "\n",
            "Train Epoch: 15 [40000/50000 (80.0%)]\tLoss: 0.249076\n",
            "\n",
            "Test set: Average loss: 0.4876, Accuracy: 8586/10000 (85.9%)\n",
            "\n",
            "\n",
            "Train Epoch: 16 [0/50000 (0.0%)]\tLoss: 0.445819\n",
            "\n",
            "Train Epoch: 16 [10000/50000 (20.0%)]\tLoss: 0.345930\n",
            "\n",
            "Train Epoch: 16 [20000/50000 (40.0%)]\tLoss: 0.576964\n",
            "\n",
            "Train Epoch: 16 [30000/50000 (60.0%)]\tLoss: 0.380010\n",
            "\n",
            "Train Epoch: 16 [40000/50000 (80.0%)]\tLoss: 0.669484\n",
            "\n",
            "Test set: Average loss: 0.4888, Accuracy: 8594/10000 (85.9%)\n",
            "\n",
            "\n",
            "Train Epoch: 17 [0/50000 (0.0%)]\tLoss: 0.253045\n",
            "\n",
            "Train Epoch: 17 [10000/50000 (20.0%)]\tLoss: 0.263263\n",
            "\n",
            "Train Epoch: 17 [20000/50000 (40.0%)]\tLoss: 0.413306\n",
            "\n",
            "Train Epoch: 17 [30000/50000 (60.0%)]\tLoss: 0.408139\n",
            "\n",
            "Train Epoch: 17 [40000/50000 (80.0%)]\tLoss: 0.474322\n",
            "\n",
            "Test set: Average loss: 0.4834, Accuracy: 8605/10000 (86.1%)\n",
            "\n",
            "\n",
            "Train Epoch: 18 [0/50000 (0.0%)]\tLoss: 0.324658\n",
            "\n",
            "Train Epoch: 18 [10000/50000 (20.0%)]\tLoss: 0.261635\n",
            "\n",
            "Train Epoch: 18 [20000/50000 (40.0%)]\tLoss: 0.243380\n",
            "\n",
            "Train Epoch: 18 [30000/50000 (60.0%)]\tLoss: 0.593732\n",
            "\n",
            "Train Epoch: 18 [40000/50000 (80.0%)]\tLoss: 0.369919\n",
            "\n",
            "Test set: Average loss: 0.4840, Accuracy: 8606/10000 (86.1%)\n",
            "\n",
            "\n",
            "Train Epoch: 19 [0/50000 (0.0%)]\tLoss: 0.511062\n",
            "\n",
            "Train Epoch: 19 [10000/50000 (20.0%)]\tLoss: 0.274114\n",
            "\n",
            "Train Epoch: 19 [20000/50000 (40.0%)]\tLoss: 0.263588\n",
            "\n",
            "Train Epoch: 19 [30000/50000 (60.0%)]\tLoss: 0.275764\n",
            "\n",
            "Train Epoch: 19 [40000/50000 (80.0%)]\tLoss: 0.345539\n",
            "\n",
            "Test set: Average loss: 0.4803, Accuracy: 8590/10000 (85.9%)\n",
            "\n",
            "\n",
            " TRAIN PRUNED MODEL DONE!\n"
          ]
        }
      ],
      "source": [
        "#### 訓練函數 #####\n",
        "Fine_tuning_train_acc = []\n",
        "# 注意: 需自行撰寫儲存每個epoch之train acc的code，以便後續繪製train acc結果圖!\n",
        "def train(epoch):\n",
        "    model.train()\n",
        "    correct = 0\n",
        "    total = 0\n",
        "    for batch_idx, (data, target) in enumerate(train_loader):\n",
        "        if CUDA:\n",
        "            data, target = data.cuda(), target.cuda()\n",
        "        data, target = Variable(data), Variable(target)\n",
        "        optimizer.zero_grad()\n",
        "        output = model(data)\n",
        "        loss = F.cross_entropy(output, target)\n",
        "        loss.backward()\n",
        "        optimizer.step()\n",
        "\n",
        "        _, predicted = output.max(1)\n",
        "        correct += predicted.eq(target).sum().item()\n",
        "        total += target.size(0)\n",
        "\n",
        "        if batch_idx % LOG_INTERVAL == 0:\n",
        "            print('\\nTrain Epoch: {} [{}/{} ({:.1f}%)]\\tLoss: {:.6f}'.format(\n",
        "                epoch, batch_idx * len(data), len(train_loader.dataset),\n",
        "                100. * batch_idx / len(train_loader), loss.data.item()))\n",
        "    train_accuracy = 100. * correct / total\n",
        "    Fine_tuning_train_acc.append(train_accuracy)\n",
        "\n",
        "#### 測試函數 ####\n",
        "def test():\n",
        "    model.eval()\n",
        "    test_loss = 0\n",
        "    correct = 0\n",
        "\n",
        "    with torch.no_grad():\n",
        "      for data, target in test_loader:\n",
        "          if CUDA:\n",
        "              data, target = data.cuda(), target.cuda()\n",
        "          data, target = Variable(data), Variable(target)\n",
        "          output = model(data)\n",
        "          test_loss += F.cross_entropy(output, target, reduction='sum').data.item()\n",
        "          pred = output.data.max(1, keepdim=True)[1]\n",
        "          correct += pred.eq(target.data.view_as(pred)).cpu().sum()\n",
        "\n",
        "      test_loss /= len(test_loader.dataset)\n",
        "      print('\\nTest set: Average loss: {:.4f}, Accuracy: {}/{} ({:.1f}%)\\n'.format(\n",
        "          test_loss, correct, len(test_loader.dataset),\n",
        "          100. * correct / len(test_loader.dataset)))\n",
        "      return correct / float(len(test_loader.dataset))\n",
        "\n",
        "best_prec1 = 0.\n",
        "for epoch in range(START_EPOCH, EPOCHS):\n",
        "    # Learning Rate在0.5EPOCHS與0.75EPOCHS調整為原本之十分之一\n",
        "    if epoch in [EPOCHS*0.5, EPOCHS*0.75]:\n",
        "        for param_group in optimizer.param_groups:\n",
        "            param_group['lr'] *= 0.1\n",
        "    train(epoch)\n",
        "    prec1 = test()\n",
        "\n",
        "    # 儲存模型權重，方便做後續剪枝,後續訓練\n",
        "    if(prec1 > best_prec1):\n",
        "        torch.save({\n",
        "            'epoch': epoch + 1,\n",
        "            'state_dict': model.state_dict(),\n",
        "            'best_prec1': best_prec1,\n",
        "            'optimizer': optimizer.state_dict(),\n",
        "        }, PRUNE_FINETUNE_PATH)\n",
        "\n",
        "    best_prec1 = max(prec1, best_prec1)\n",
        "\n",
        "print('\\n TRAIN PRUNED MODEL DONE!')\n"
      ]
    },
    {
      "cell_type": "markdown",
      "metadata": {
        "id": "8I1zyyqmNtQk"
      },
      "source": [
        "## 繪製Fine-tuning結果圖\n"
      ]
    },
    {
      "cell_type": "code",
      "execution_count": null,
      "metadata": {
        "id": "WH1VaayxN1Qj",
        "colab": {
          "base_uri": "https://localhost:8080/",
          "height": 472
        },
        "outputId": "fb619bbe-e566-4b7b-fb0b-a0d7bf8a030d"
      },
      "outputs": [
        {
          "output_type": "display_data",
          "data": {
            "text/plain": [
              "<Figure size 640x480 with 1 Axes>"
            ],
            "image/png": "[encoded data removed]"
          },
          "metadata": {}
        }
      ],
      "source": [
        "#繪製Fine-tuning結果圖\n",
        "import matplotlib.pyplot as plt\n",
        "epochs = range(1, EPOCHS + 1)\n",
        "plt.plot(epochs, Fine_tuning_train_acc , 'b', label='Training Accuracy')\n",
        "plt.title('Fine-tuning model')\n",
        "plt.xlabel('Epoch')\n",
        "plt.ylabel('Accuracy (%)')\n",
        "plt.legend()\n",
        "plt.grid(True)"
      ]
    },
    {
      "cell_type": "markdown",
      "source": [
        "## 設定超參數 PRUNE=0.5"
      ],
      "metadata": {
        "id": "36rUGtsrZ18b"
      }
    },
    {
      "cell_type": "code",
      "source": [
        "TRAIN_BATCH_SIZE = 100\n",
        "TEST_BATCH_SIZE = 1000\n",
        "EPOCHS = 20\n",
        "LEARNING_RATE = 0.1\n",
        "MOMENTUM = 0.9\n",
        "WEIGHT_DECAY = 1e-4\n",
        "LOG_INTERVAL = 100\n",
        "CUDA = True\n",
        "SEED = 1\n",
        "\n",
        "RESUME = True\n",
        "START_EPOCH = 0\n",
        "\n",
        "PRUNE_PATH = '/content/drive/MyDrive/Colab Notebooks/model_prune2.pth'\n",
        "PRUNE_FINETUNE_PATH = '/content/drive/MyDrive/Colab Notebooks/model_prune_finetune2.pth'"
      ],
      "metadata": {
        "id": "2K-8lvKxZ6N8"
      },
      "execution_count": null,
      "outputs": []
    },
    {
      "cell_type": "markdown",
      "source": [
        "檢查是否檢查是否可使用GPU"
      ],
      "metadata": {
        "id": "prmXeTz0aK3D"
      }
    },
    {
      "cell_type": "code",
      "source": [
        "if(torch.cuda.is_available()):\n",
        "    CUDA = True\n",
        "    kwargs = {'num_workers': 1, 'pin_memory': True}\n",
        "    torch.cuda.manual_seed(SEED)\n",
        "else:\n",
        "    CUDA = False\n",
        "    kwargs = {}"
      ],
      "metadata": {
        "id": "wAQYNSV3aNOG"
      },
      "execution_count": null,
      "outputs": []
    },
    {
      "cell_type": "markdown",
      "source": [
        "下載資料集\n",
        "這裡將訓練集做Augmentation(Pad, RandCrop, Random)，測試集不用做Augmentation"
      ],
      "metadata": {
        "id": "Dl-HcGz-aV8r"
      }
    },
    {
      "cell_type": "code",
      "source": [
        "#### DATASET ####\n",
        "train_loader = torch.utils.data.DataLoader(\n",
        "    datasets.CIFAR10('./data', train=True, download=True,\n",
        "                   transform=transforms.Compose([\n",
        "                       transforms.Pad(4),\n",
        "                       transforms.RandomCrop(32),\n",
        "                       transforms.RandomHorizontalFlip(),\n",
        "                       transforms.ToTensor(),\n",
        "                       transforms.Normalize((0.5, 0.5, 0.5), (0.5, 0.5, 0.5))\n",
        "                   ])),\n",
        "    batch_size=TRAIN_BATCH_SIZE, shuffle=True, **kwargs)\n",
        "test_loader = torch.utils.data.DataLoader(\n",
        "    datasets.CIFAR10('./data', train=False, transform=transforms.Compose([\n",
        "                       transforms.ToTensor(),\n",
        "                       transforms.Normalize((0.5, 0.5, 0.5), (0.5, 0.5, 0.5))\n",
        "                   ])),\n",
        "    batch_size=TEST_BATCH_SIZE, shuffle=True, **kwargs)"
      ],
      "metadata": {
        "colab": {
          "base_uri": "https://localhost:8080/"
        },
        "id": "zCNEgUzUaf8-",
        "outputId": "0f58ef85-447c-4433-acb6-eb298998b5ae"
      },
      "execution_count": null,
      "outputs": [
        {
          "output_type": "stream",
          "name": "stdout",
          "text": [
            "Files already downloaded and verified\n"
          ]
        }
      ]
    },
    {
      "cell_type": "markdown",
      "source": [
        "## 載入剪枝後的網路與權重"
      ],
      "metadata": {
        "id": "h_6yosKlaksE"
      }
    },
    {
      "cell_type": "code",
      "source": [
        "model = None\n",
        "if(RESUME):\n",
        "  checkpoint = torch.load(PRUNE_PATH)\n",
        "  model = vgg(cfg=checkpoint['cfg'])\n",
        "  model.load_state_dict(checkpoint['state_dict'])\n",
        "\n",
        "  print('RESUME PRUNE MODEL')\n",
        "\n",
        "if CUDA:\n",
        "    model.cuda()"
      ],
      "metadata": {
        "colab": {
          "base_uri": "https://localhost:8080/"
        },
        "id": "o-eHCZIqalap",
        "outputId": "fc436c80-787a-44a1-febb-45ff7c3ff919"
      },
      "execution_count": null,
      "outputs": [
        {
          "output_type": "stream",
          "name": "stdout",
          "text": [
            "RESUME PRUNE MODEL\n"
          ]
        }
      ]
    },
    {
      "cell_type": "markdown",
      "source": [
        "##設定Optimizer，這裡使用Stocastic Gradient Descent with"
      ],
      "metadata": {
        "id": "CQquPOZEaoNl"
      }
    },
    {
      "cell_type": "code",
      "source": [
        "optimizer = optim.SGD(model.parameters(), lr=LEARNING_RATE, momentum=MOMENTUM, weight_decay=WEIGHT_DECAY)"
      ],
      "metadata": {
        "id": "VCiXdo1yauNP"
      },
      "execution_count": null,
      "outputs": []
    },
    {
      "cell_type": "markdown",
      "source": [
        "## 定義訓練跟測試函數"
      ],
      "metadata": {
        "id": "qvXA40pga0hN"
      }
    },
    {
      "cell_type": "code",
      "source": [
        "#### 訓練函數 #####\n",
        "Fine_tuning_train_acc2 = []\n",
        "# 注意: 需自行撰寫儲存每個epoch之train acc的code，以便後續繪製train acc結果圖!\n",
        "def train(epoch):\n",
        "    model.train()\n",
        "    correct = 0\n",
        "    total = 0\n",
        "    for batch_idx, (data, target) in enumerate(train_loader):\n",
        "        if CUDA:\n",
        "            data, target = data.cuda(), target.cuda()\n",
        "        data, target = Variable(data), Variable(target)\n",
        "        optimizer.zero_grad()\n",
        "        output = model(data)\n",
        "        loss = F.cross_entropy(output, target)\n",
        "        loss.backward()\n",
        "        optimizer.step()\n",
        "\n",
        "        _, predicted = output.max(1)\n",
        "        correct += predicted.eq(target).sum().item()\n",
        "        total += target.size(0)\n",
        "\n",
        "        if batch_idx % LOG_INTERVAL == 0:\n",
        "            print('\\nTrain Epoch: {} [{}/{} ({:.1f}%)]\\tLoss: {:.6f}'.format(\n",
        "                epoch, batch_idx * len(data), len(train_loader.dataset),\n",
        "                100. * batch_idx / len(train_loader), loss.data.item()))\n",
        "    train_accuracy = 100. * correct / total\n",
        "    Fine_tuning_train_acc2.append(train_accuracy)\n",
        "\n",
        "#### 測試函數 ####\n",
        "def test():\n",
        "    model.eval()\n",
        "    test_loss = 0\n",
        "    correct = 0\n",
        "\n",
        "    with torch.no_grad():\n",
        "      for data, target in test_loader:\n",
        "          if CUDA:\n",
        "              data, target = data.cuda(), target.cuda()\n",
        "          data, target = Variable(data), Variable(target)\n",
        "          output = model(data)\n",
        "          test_loss += F.cross_entropy(output, target, reduction='sum').data.item()\n",
        "          pred = output.data.max(1, keepdim=True)[1]\n",
        "          correct += pred.eq(target.data.view_as(pred)).cpu().sum()\n",
        "\n",
        "      test_loss /= len(test_loader.dataset)\n",
        "      print('\\nTest set: Average loss: {:.4f}, Accuracy: {}/{} ({:.1f}%)\\n'.format(\n",
        "          test_loss, correct, len(test_loader.dataset),\n",
        "          100. * correct / len(test_loader.dataset)))\n",
        "      return correct / float(len(test_loader.dataset))\n",
        "\n",
        "best_prec1 = 0.\n",
        "for epoch in range(START_EPOCH, EPOCHS):\n",
        "    # Learning Rate在0.5EPOCHS與0.75EPOCHS調整為原本之十分之一\n",
        "    if epoch in [EPOCHS*0.5, EPOCHS*0.75]:\n",
        "        for param_group in optimizer.param_groups:\n",
        "            param_group['lr'] *= 0.1\n",
        "    train(epoch)\n",
        "    prec1 = test()\n",
        "\n",
        "    # 儲存模型權重，方便做後續剪枝,後續訓練\n",
        "    if(prec1 > best_prec1):\n",
        "        torch.save({\n",
        "            'epoch': epoch + 1,\n",
        "            'state_dict': model.state_dict(),\n",
        "            'best_prec1': best_prec1,\n",
        "            'optimizer': optimizer.state_dict(),\n",
        "        }, PRUNE_FINETUNE_PATH)\n",
        "\n",
        "    best_prec1 = max(prec1, best_prec1)\n",
        "\n",
        "print('\\n TRAIN PRUNED MODEL DONE!')"
      ],
      "metadata": {
        "colab": {
          "base_uri": "https://localhost:8080/"
        },
        "id": "pDsQzus9a1HM",
        "outputId": "f610b9c8-f0a4-4c9b-edfb-9034c5baa538"
      },
      "execution_count": null,
      "outputs": [
        {
          "output_type": "stream",
          "name": "stdout",
          "text": [
            "\n",
            "Train Epoch: 0 [0/50000 (0.0%)]\tLoss: 0.390541\n",
            "\n",
            "Train Epoch: 0 [10000/50000 (20.0%)]\tLoss: 0.232673\n",
            "\n",
            "Train Epoch: 0 [20000/50000 (40.0%)]\tLoss: 0.228819\n",
            "\n",
            "Train Epoch: 0 [30000/50000 (60.0%)]\tLoss: 0.296591\n",
            "\n",
            "Train Epoch: 0 [40000/50000 (80.0%)]\tLoss: 0.440891\n",
            "\n",
            "Test set: Average loss: 0.4794, Accuracy: 8514/10000 (85.1%)\n",
            "\n",
            "\n",
            "Train Epoch: 1 [0/50000 (0.0%)]\tLoss: 0.339383\n",
            "\n",
            "Train Epoch: 1 [10000/50000 (20.0%)]\tLoss: 0.180936\n",
            "\n",
            "Train Epoch: 1 [20000/50000 (40.0%)]\tLoss: 0.180341\n",
            "\n",
            "Train Epoch: 1 [30000/50000 (60.0%)]\tLoss: 0.211779\n",
            "\n",
            "Train Epoch: 1 [40000/50000 (80.0%)]\tLoss: 0.237514\n",
            "\n",
            "Test set: Average loss: 0.4732, Accuracy: 8570/10000 (85.7%)\n",
            "\n",
            "\n",
            "Train Epoch: 2 [0/50000 (0.0%)]\tLoss: 0.278913\n",
            "\n",
            "Train Epoch: 2 [10000/50000 (20.0%)]\tLoss: 0.197615\n",
            "\n",
            "Train Epoch: 2 [20000/50000 (40.0%)]\tLoss: 0.226637\n",
            "\n",
            "Train Epoch: 2 [30000/50000 (60.0%)]\tLoss: 0.225531\n",
            "\n",
            "Train Epoch: 2 [40000/50000 (80.0%)]\tLoss: 0.361572\n",
            "\n",
            "Test set: Average loss: 0.6331, Accuracy: 8277/10000 (82.8%)\n",
            "\n",
            "\n",
            "Train Epoch: 3 [0/50000 (0.0%)]\tLoss: 0.117825\n",
            "\n",
            "Train Epoch: 3 [10000/50000 (20.0%)]\tLoss: 0.186636\n",
            "\n",
            "Train Epoch: 3 [20000/50000 (40.0%)]\tLoss: 0.333039\n",
            "\n",
            "Train Epoch: 3 [30000/50000 (60.0%)]\tLoss: 0.414033\n",
            "\n",
            "Train Epoch: 3 [40000/50000 (80.0%)]\tLoss: 0.315806\n",
            "\n",
            "Test set: Average loss: 0.3884, Accuracy: 8710/10000 (87.1%)\n",
            "\n",
            "\n",
            "Train Epoch: 4 [0/50000 (0.0%)]\tLoss: 0.263119\n",
            "\n",
            "Train Epoch: 4 [10000/50000 (20.0%)]\tLoss: 0.211065\n",
            "\n",
            "Train Epoch: 4 [20000/50000 (40.0%)]\tLoss: 0.179500\n",
            "\n",
            "Train Epoch: 4 [30000/50000 (60.0%)]\tLoss: 0.141560\n",
            "\n",
            "Train Epoch: 4 [40000/50000 (80.0%)]\tLoss: 0.168914\n",
            "\n",
            "Test set: Average loss: 0.5416, Accuracy: 8410/10000 (84.1%)\n",
            "\n",
            "\n",
            "Train Epoch: 5 [0/50000 (0.0%)]\tLoss: 0.162392\n",
            "\n",
            "Train Epoch: 5 [10000/50000 (20.0%)]\tLoss: 0.199967\n",
            "\n",
            "Train Epoch: 5 [20000/50000 (40.0%)]\tLoss: 0.209445\n",
            "\n",
            "Train Epoch: 5 [30000/50000 (60.0%)]\tLoss: 0.123406\n",
            "\n",
            "Train Epoch: 5 [40000/50000 (80.0%)]\tLoss: 0.174116\n",
            "\n",
            "Test set: Average loss: 0.4859, Accuracy: 8593/10000 (85.9%)\n",
            "\n",
            "\n",
            "Train Epoch: 6 [0/50000 (0.0%)]\tLoss: 0.187146\n",
            "\n",
            "Train Epoch: 6 [10000/50000 (20.0%)]\tLoss: 0.250143\n",
            "\n",
            "Train Epoch: 6 [20000/50000 (40.0%)]\tLoss: 0.142171\n",
            "\n",
            "Train Epoch: 6 [30000/50000 (60.0%)]\tLoss: 0.303006\n",
            "\n",
            "Train Epoch: 6 [40000/50000 (80.0%)]\tLoss: 0.133821\n",
            "\n",
            "Test set: Average loss: 0.3710, Accuracy: 8809/10000 (88.1%)\n",
            "\n",
            "\n",
            "Train Epoch: 7 [0/50000 (0.0%)]\tLoss: 0.144634\n",
            "\n",
            "Train Epoch: 7 [10000/50000 (20.0%)]\tLoss: 0.131584\n",
            "\n",
            "Train Epoch: 7 [20000/50000 (40.0%)]\tLoss: 0.094347\n",
            "\n",
            "Train Epoch: 7 [30000/50000 (60.0%)]\tLoss: 0.133342\n",
            "\n",
            "Train Epoch: 7 [40000/50000 (80.0%)]\tLoss: 0.095961\n",
            "\n",
            "Test set: Average loss: 0.4691, Accuracy: 8620/10000 (86.2%)\n",
            "\n",
            "\n",
            "Train Epoch: 8 [0/50000 (0.0%)]\tLoss: 0.099953\n",
            "\n",
            "Train Epoch: 8 [10000/50000 (20.0%)]\tLoss: 0.262059\n",
            "\n",
            "Train Epoch: 8 [20000/50000 (40.0%)]\tLoss: 0.283231\n",
            "\n",
            "Train Epoch: 8 [30000/50000 (60.0%)]\tLoss: 0.219826\n",
            "\n",
            "Train Epoch: 8 [40000/50000 (80.0%)]\tLoss: 0.366132\n",
            "\n",
            "Test set: Average loss: 0.3748, Accuracy: 8842/10000 (88.4%)\n",
            "\n",
            "\n",
            "Train Epoch: 9 [0/50000 (0.0%)]\tLoss: 0.173273\n",
            "\n",
            "Train Epoch: 9 [10000/50000 (20.0%)]\tLoss: 0.172131\n",
            "\n",
            "Train Epoch: 9 [20000/50000 (40.0%)]\tLoss: 0.189390\n",
            "\n",
            "Train Epoch: 9 [30000/50000 (60.0%)]\tLoss: 0.128848\n",
            "\n",
            "Train Epoch: 9 [40000/50000 (80.0%)]\tLoss: 0.257258\n",
            "\n",
            "Test set: Average loss: 0.3592, Accuracy: 8906/10000 (89.1%)\n",
            "\n",
            "\n",
            "Train Epoch: 10 [0/50000 (0.0%)]\tLoss: 0.204443\n",
            "\n",
            "Train Epoch: 10 [10000/50000 (20.0%)]\tLoss: 0.152771\n",
            "\n",
            "Train Epoch: 10 [20000/50000 (40.0%)]\tLoss: 0.102053\n",
            "\n",
            "Train Epoch: 10 [30000/50000 (60.0%)]\tLoss: 0.064675\n",
            "\n",
            "Train Epoch: 10 [40000/50000 (80.0%)]\tLoss: 0.195943\n",
            "\n",
            "Test set: Average loss: 0.2600, Accuracy: 9218/10000 (92.2%)\n",
            "\n",
            "\n",
            "Train Epoch: 11 [0/50000 (0.0%)]\tLoss: 0.041832\n",
            "\n",
            "Train Epoch: 11 [10000/50000 (20.0%)]\tLoss: 0.061909\n",
            "\n",
            "Train Epoch: 11 [20000/50000 (40.0%)]\tLoss: 0.044648\n",
            "\n",
            "Train Epoch: 11 [30000/50000 (60.0%)]\tLoss: 0.164577\n",
            "\n",
            "Train Epoch: 11 [40000/50000 (80.0%)]\tLoss: 0.030519\n",
            "\n",
            "Test set: Average loss: 0.2623, Accuracy: 9239/10000 (92.4%)\n",
            "\n",
            "\n",
            "Train Epoch: 12 [0/50000 (0.0%)]\tLoss: 0.020385\n",
            "\n",
            "Train Epoch: 12 [10000/50000 (20.0%)]\tLoss: 0.027508\n",
            "\n",
            "Train Epoch: 12 [20000/50000 (40.0%)]\tLoss: 0.042639\n",
            "\n",
            "Train Epoch: 12 [30000/50000 (60.0%)]\tLoss: 0.064257\n",
            "\n",
            "Train Epoch: 12 [40000/50000 (80.0%)]\tLoss: 0.020443\n",
            "\n",
            "Test set: Average loss: 0.2689, Accuracy: 9260/10000 (92.6%)\n",
            "\n",
            "\n",
            "Train Epoch: 13 [0/50000 (0.0%)]\tLoss: 0.067294\n",
            "\n",
            "Train Epoch: 13 [10000/50000 (20.0%)]\tLoss: 0.053684\n",
            "\n",
            "Train Epoch: 13 [20000/50000 (40.0%)]\tLoss: 0.145402\n",
            "\n",
            "Train Epoch: 13 [30000/50000 (60.0%)]\tLoss: 0.014562\n",
            "\n",
            "Train Epoch: 13 [40000/50000 (80.0%)]\tLoss: 0.048336\n",
            "\n",
            "Test set: Average loss: 0.2765, Accuracy: 9253/10000 (92.5%)\n",
            "\n",
            "\n",
            "Train Epoch: 14 [0/50000 (0.0%)]\tLoss: 0.023011\n",
            "\n",
            "Train Epoch: 14 [10000/50000 (20.0%)]\tLoss: 0.043795\n",
            "\n",
            "Train Epoch: 14 [20000/50000 (40.0%)]\tLoss: 0.018785\n",
            "\n",
            "Train Epoch: 14 [30000/50000 (60.0%)]\tLoss: 0.005645\n",
            "\n",
            "Train Epoch: 14 [40000/50000 (80.0%)]\tLoss: 0.032907\n",
            "\n",
            "Test set: Average loss: 0.2797, Accuracy: 9269/10000 (92.7%)\n",
            "\n",
            "\n",
            "Train Epoch: 15 [0/50000 (0.0%)]\tLoss: 0.024166\n",
            "\n",
            "Train Epoch: 15 [10000/50000 (20.0%)]\tLoss: 0.005908\n",
            "\n",
            "Train Epoch: 15 [20000/50000 (40.0%)]\tLoss: 0.034383\n",
            "\n",
            "Train Epoch: 15 [30000/50000 (60.0%)]\tLoss: 0.019186\n",
            "\n",
            "Train Epoch: 15 [40000/50000 (80.0%)]\tLoss: 0.035554\n",
            "\n",
            "Test set: Average loss: 0.2760, Accuracy: 9269/10000 (92.7%)\n",
            "\n",
            "\n",
            "Train Epoch: 16 [0/50000 (0.0%)]\tLoss: 0.030442\n",
            "\n",
            "Train Epoch: 16 [10000/50000 (20.0%)]\tLoss: 0.012280\n",
            "\n",
            "Train Epoch: 16 [20000/50000 (40.0%)]\tLoss: 0.036463\n",
            "\n",
            "Train Epoch: 16 [30000/50000 (60.0%)]\tLoss: 0.033937\n",
            "\n",
            "Train Epoch: 16 [40000/50000 (80.0%)]\tLoss: 0.014307\n",
            "\n",
            "Test set: Average loss: 0.2748, Accuracy: 9266/10000 (92.7%)\n",
            "\n",
            "\n",
            "Train Epoch: 17 [0/50000 (0.0%)]\tLoss: 0.008705\n",
            "\n",
            "Train Epoch: 17 [10000/50000 (20.0%)]\tLoss: 0.018268\n",
            "\n",
            "Train Epoch: 17 [20000/50000 (40.0%)]\tLoss: 0.011110\n",
            "\n",
            "Train Epoch: 17 [30000/50000 (60.0%)]\tLoss: 0.021891\n",
            "\n",
            "Train Epoch: 17 [40000/50000 (80.0%)]\tLoss: 0.025081\n",
            "\n",
            "Test set: Average loss: 0.2750, Accuracy: 9271/10000 (92.7%)\n",
            "\n",
            "\n",
            "Train Epoch: 18 [0/50000 (0.0%)]\tLoss: 0.011462\n",
            "\n",
            "Train Epoch: 18 [10000/50000 (20.0%)]\tLoss: 0.007720\n",
            "\n",
            "Train Epoch: 18 [20000/50000 (40.0%)]\tLoss: 0.025390\n",
            "\n",
            "Train Epoch: 18 [30000/50000 (60.0%)]\tLoss: 0.012380\n",
            "\n",
            "Train Epoch: 18 [40000/50000 (80.0%)]\tLoss: 0.018297\n",
            "\n",
            "Test set: Average loss: 0.2759, Accuracy: 9264/10000 (92.6%)\n",
            "\n",
            "\n",
            "Train Epoch: 19 [0/50000 (0.0%)]\tLoss: 0.032269\n",
            "\n",
            "Train Epoch: 19 [10000/50000 (20.0%)]\tLoss: 0.045098\n",
            "\n",
            "Train Epoch: 19 [20000/50000 (40.0%)]\tLoss: 0.039038\n",
            "\n",
            "Train Epoch: 19 [30000/50000 (60.0%)]\tLoss: 0.027467\n",
            "\n",
            "Train Epoch: 19 [40000/50000 (80.0%)]\tLoss: 0.028304\n",
            "\n",
            "Test set: Average loss: 0.2773, Accuracy: 9284/10000 (92.8%)\n",
            "\n",
            "\n",
            " TRAIN PRUNED MODEL DONE!\n"
          ]
        }
      ]
    },
    {
      "cell_type": "markdown",
      "source": [
        "## 繪製Fine-tuning結果圖"
      ],
      "metadata": {
        "id": "ED-zI-ada_53"
      }
    },
    {
      "cell_type": "code",
      "source": [
        "#繪製Fine-tuning結果圖\n",
        "import matplotlib.pyplot as plt\n",
        "epochs = range(1, EPOCHS + 1)\n",
        "plt.plot(epochs, Fine_tuning_train_acc2 , 'b', label='Training Accuracy')\n",
        "plt.title('Fine-tuning model')\n",
        "plt.xlabel('Epoch')\n",
        "plt.ylabel('Accuracy (%)')\n",
        "plt.legend()\n",
        "plt.grid(True)"
      ],
      "metadata": {
        "colab": {
          "base_uri": "https://localhost:8080/",
          "height": 472
        },
        "id": "lupfV9iubAfh",
        "outputId": "2df8f7e8-80b8-4d53-a6d8-3bb02faec6e6"
      },
      "execution_count": null,
      "outputs": [
        {
          "output_type": "display_data",
          "data": {
            "text/plain": [
              "<Figure size 640x480 with 1 Axes>"
            ],
            "image/png": "[encoded data removed]"
          },
          "metadata": {}
        }
      ]
    }
  ],
  "metadata": {
    "accelerator": "GPU",
    "colab": {
      "provenance": []
    },
    "gpuClass": "standard",
    "kernelspec": {
      "display_name": "Python 3",
      "name": "python3"
    },
    "language_info": {
      "name": "python"
    }
  },
  "nbformat": 4,
  "nbformat_minor": 0
}