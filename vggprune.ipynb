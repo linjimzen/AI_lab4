{
  "nbformat": 4,
  "nbformat_minor": 0,
  "metadata": {
    "colab": {
      "provenance": []
    },
    "kernelspec": {
      "name": "python3",
      "display_name": "Python 3"
    },
    "language_info": {
      "name": "python"
    },
    "gpuClass": "standard",
    "accelerator": "GPU"
  },
  "cells": [
    {
      "cell_type": "markdown",
      "source": [
        "## 掛載雲端硬碟"
      ],
      "metadata": {
        "id": "Lk6d9yOhuSkr"
      }
    },
    {
      "cell_type": "code",
      "source": [
        "from google.colab import drive\n",
        "drive.mount('/content/drive')"
      ],
      "metadata": {
        "id": "3NTpFfZGuVSx",
        "colab": {
          "base_uri": "https://localhost:8080/"
        },
        "outputId": "927f5e11-57a8-4325-d953-45f38c4ca14a"
      },
      "execution_count": null,
      "outputs": [
        {
          "output_type": "stream",
          "name": "stdout",
          "text": [
            "Mounted at /content/drive\n"
          ]
        }
      ]
    },
    {
      "cell_type": "markdown",
      "source": [
        "##更改檔案所在路徑\n"
      ],
      "metadata": {
        "id": "VEETyGg0uZnb"
      }
    },
    {
      "cell_type": "code",
      "source": [
        "# Change to your own folder !!!\n",
        "%cd /content/drive/MyDrive/Colab Notebooks/AI_lab4"
      ],
      "metadata": {
        "id": "Wum2GQmwucfZ",
        "colab": {
          "base_uri": "https://localhost:8080/"
        },
        "outputId": "86326adf-01ca-4541-bfac-31e3004b1d68"
      },
      "execution_count": null,
      "outputs": [
        {
          "output_type": "stream",
          "name": "stdout",
          "text": [
            "/content/drive/MyDrive/Colab Notebooks/AI_lab4\n"
          ]
        }
      ]
    },
    {
      "cell_type": "markdown",
      "source": [
        "## 載入函式庫\n"
      ],
      "metadata": {
        "id": "S9NTZ1VEtbV7"
      }
    },
    {
      "cell_type": "code",
      "source": [
        "import os\n",
        "\n",
        "import torch\n",
        "import torch.nn as nn\n",
        "from torch.autograd import Variable\n",
        "from torchvision import datasets, transforms\n",
        "import numpy as np\n",
        "\n",
        "from models import vgg"
      ],
      "metadata": {
        "id": "vCvF-fM0tfsq"
      },
      "execution_count": null,
      "outputs": []
    },
    {
      "cell_type": "markdown",
      "source": [
        "##超參數設定 PRUEN=0.9"
      ],
      "metadata": {
        "id": "_X_r4dtMuwbh"
      }
    },
    {
      "cell_type": "code",
      "source": [
        "DATASET = 'cifar10'\n",
        "TEST_BATCH_SIZE = 1000\n",
        "CUDA = True\n",
        "PRUNE_PERCENT = 0.9 # Change your prune ratio!\n",
        "WEIGHT_PATH = '/content/drive/MyDrive/Colab Notebooks/model_best.pth'\n",
        "PRUNE_PATH = '/content/drive/MyDrive/Colab Notebooks/model_prune.pth'\n"
      ],
      "metadata": {
        "id": "_2NkY0LyuyQh"
      },
      "execution_count": null,
      "outputs": []
    },
    {
      "cell_type": "markdown",
      "source": [
        "##載入模型"
      ],
      "metadata": {
        "id": "L7z4dkhJwB4Z"
      }
    },
    {
      "cell_type": "code",
      "source": [
        "CUDA = CUDA and torch.cuda.is_available()\n",
        "\n",
        "model = vgg()\n",
        "if CUDA:\n",
        "    model.cuda()\n",
        "\n",
        "if WEIGHT_PATH:\n",
        "    if os.path.isfile(WEIGHT_PATH):\n",
        "        checkpoint = torch.load(WEIGHT_PATH)\n",
        "        best_prec1 = checkpoint['best_prec1']\n",
        "        model.load_state_dict(checkpoint['state_dict'])\n",
        "        print('LOADING CHECKPOINT {} @EPOCH={}, BEST_PREC1={}'.format(WEIGHT_PATH,checkpoint['epoch'],best_prec1))\n",
        "\n",
        "    else:\n",
        "        print(\"NO CHECKPOINT FOUND\")\n",
        "\n",
        "print(model)"
      ],
      "metadata": {
        "id": "lpIqnhfKwEcJ",
        "colab": {
          "base_uri": "https://localhost:8080/"
        },
        "outputId": "d633db05-8da3-49a3-b720-c44c270d6c75"
      },
      "execution_count": null,
      "outputs": [
        {
          "output_type": "stream",
          "name": "stdout",
          "text": [
            "LOADING CHECKPOINT /content/drive/MyDrive/Colab Notebooks/model_best.pth @EPOCH=50, BEST_PREC1=0.9271000027656555\n",
            "vgg(\n",
            "  (feature): Sequential(\n",
            "    (0): Conv2d(3, 64, kernel_size=(3, 3), stride=(1, 1), padding=(1, 1), bias=False)\n",
            "    (1): BatchNorm2d(64, eps=1e-05, momentum=0.1, affine=True, track_running_stats=True)\n",
            "    (2): ReLU(inplace=True)\n",
            "    (3): Conv2d(64, 64, kernel_size=(3, 3), stride=(1, 1), padding=(1, 1), bias=False)\n",
            "    (4): BatchNorm2d(64, eps=1e-05, momentum=0.1, affine=True, track_running_stats=True)\n",
            "    (5): ReLU(inplace=True)\n",
            "    (6): MaxPool2d(kernel_size=2, stride=2, padding=0, dilation=1, ceil_mode=False)\n",
            "    (7): Conv2d(64, 128, kernel_size=(3, 3), stride=(1, 1), padding=(1, 1), bias=False)\n",
            "    (8): BatchNorm2d(128, eps=1e-05, momentum=0.1, affine=True, track_running_stats=True)\n",
            "    (9): ReLU(inplace=True)\n",
            "    (10): Conv2d(128, 128, kernel_size=(3, 3), stride=(1, 1), padding=(1, 1), bias=False)\n",
            "    (11): BatchNorm2d(128, eps=1e-05, momentum=0.1, affine=True, track_running_stats=True)\n",
            "    (12): ReLU(inplace=True)\n",
            "    (13): MaxPool2d(kernel_size=2, stride=2, padding=0, dilation=1, ceil_mode=False)\n",
            "    (14): Conv2d(128, 256, kernel_size=(3, 3), stride=(1, 1), padding=(1, 1), bias=False)\n",
            "    (15): BatchNorm2d(256, eps=1e-05, momentum=0.1, affine=True, track_running_stats=True)\n",
            "    (16): ReLU(inplace=True)\n",
            "    (17): Conv2d(256, 256, kernel_size=(3, 3), stride=(1, 1), padding=(1, 1), bias=False)\n",
            "    (18): BatchNorm2d(256, eps=1e-05, momentum=0.1, affine=True, track_running_stats=True)\n",
            "    (19): ReLU(inplace=True)\n",
            "    (20): Conv2d(256, 256, kernel_size=(3, 3), stride=(1, 1), padding=(1, 1), bias=False)\n",
            "    (21): BatchNorm2d(256, eps=1e-05, momentum=0.1, affine=True, track_running_stats=True)\n",
            "    (22): ReLU(inplace=True)\n",
            "    (23): Conv2d(256, 256, kernel_size=(3, 3), stride=(1, 1), padding=(1, 1), bias=False)\n",
            "    (24): BatchNorm2d(256, eps=1e-05, momentum=0.1, affine=True, track_running_stats=True)\n",
            "    (25): ReLU(inplace=True)\n",
            "    (26): MaxPool2d(kernel_size=2, stride=2, padding=0, dilation=1, ceil_mode=False)\n",
            "    (27): Conv2d(256, 512, kernel_size=(3, 3), stride=(1, 1), padding=(1, 1), bias=False)\n",
            "    (28): BatchNorm2d(512, eps=1e-05, momentum=0.1, affine=True, track_running_stats=True)\n",
            "    (29): ReLU(inplace=True)\n",
            "    (30): Conv2d(512, 512, kernel_size=(3, 3), stride=(1, 1), padding=(1, 1), bias=False)\n",
            "    (31): BatchNorm2d(512, eps=1e-05, momentum=0.1, affine=True, track_running_stats=True)\n",
            "    (32): ReLU(inplace=True)\n",
            "    (33): Conv2d(512, 512, kernel_size=(3, 3), stride=(1, 1), padding=(1, 1), bias=False)\n",
            "    (34): BatchNorm2d(512, eps=1e-05, momentum=0.1, affine=True, track_running_stats=True)\n",
            "    (35): ReLU(inplace=True)\n",
            "    (36): Conv2d(512, 512, kernel_size=(3, 3), stride=(1, 1), padding=(1, 1), bias=False)\n",
            "    (37): BatchNorm2d(512, eps=1e-05, momentum=0.1, affine=True, track_running_stats=True)\n",
            "    (38): ReLU(inplace=True)\n",
            "    (39): MaxPool2d(kernel_size=2, stride=2, padding=0, dilation=1, ceil_mode=False)\n",
            "    (40): Conv2d(512, 512, kernel_size=(3, 3), stride=(1, 1), padding=(1, 1), bias=False)\n",
            "    (41): BatchNorm2d(512, eps=1e-05, momentum=0.1, affine=True, track_running_stats=True)\n",
            "    (42): ReLU(inplace=True)\n",
            "    (43): Conv2d(512, 512, kernel_size=(3, 3), stride=(1, 1), padding=(1, 1), bias=False)\n",
            "    (44): BatchNorm2d(512, eps=1e-05, momentum=0.1, affine=True, track_running_stats=True)\n",
            "    (45): ReLU(inplace=True)\n",
            "    (46): Conv2d(512, 512, kernel_size=(3, 3), stride=(1, 1), padding=(1, 1), bias=False)\n",
            "    (47): BatchNorm2d(512, eps=1e-05, momentum=0.1, affine=True, track_running_stats=True)\n",
            "    (48): ReLU(inplace=True)\n",
            "    (49): Conv2d(512, 512, kernel_size=(3, 3), stride=(1, 1), padding=(1, 1), bias=False)\n",
            "    (50): BatchNorm2d(512, eps=1e-05, momentum=0.1, affine=True, track_running_stats=True)\n",
            "    (51): ReLU(inplace=True)\n",
            "  )\n",
            "  (classifier): Linear(in_features=512, out_features=10, bias=True)\n",
            ")\n"
          ]
        }
      ]
    },
    {
      "cell_type": "markdown",
      "source": [
        "##測試函數(觀察模型精確度)\n"
      ],
      "metadata": {
        "id": "U0nUbcNtA_SA"
      }
    },
    {
      "cell_type": "code",
      "source": [
        "def test(model):\n",
        "    kwargs = {'num_workers': 1, 'pin_memory': True} if CUDA else {}\n",
        "    test_loader = torch.utils.data.DataLoader(\n",
        "        datasets.CIFAR10('./data', train=False, download=True, transform=transforms.Compose([\n",
        "            transforms.ToTensor(),\n",
        "            transforms.Normalize((0.5, 0.5, 0.5), (0.5, 0.5, 0.5))])),\n",
        "        batch_size=TEST_BATCH_SIZE, shuffle=True, **kwargs)\n",
        "    model.eval()\n",
        "    correct = 0\n",
        "    with torch.no_grad():\n",
        "      for data, target in test_loader:\n",
        "          if CUDA:\n",
        "              data, target = data.cuda(), target.cuda()\n",
        "          data, target = Variable(data), Variable(target)\n",
        "          output = model(data)\n",
        "          pred = output.data.max(1, keepdim=True)[1]\n",
        "          correct += pred.eq(target.data.view_as(pred)).cpu().sum()\n",
        "\n",
        "    print('\\nTest set: Accuracy: {}/{} ({:.1f}%)\\n'.format(\n",
        "        correct, len(test_loader.dataset), 100. * correct / len(test_loader.dataset)))\n",
        "    return correct / float(len(test_loader.dataset))"
      ],
      "metadata": {
        "id": "Md44Lc-WBIaf"
      },
      "execution_count": null,
      "outputs": []
    },
    {
      "cell_type": "markdown",
      "source": [
        "## 進行剪枝\n",
        "#### 計算所有Batch Normalizaiton中的scale factor絕對值大小並排序\n",
        "#### 利用PRUNE_RATIO中取得閥值"
      ],
      "metadata": {
        "id": "srauYOD-1vSp"
      }
    },
    {
      "cell_type": "code",
      "source": [
        "total = 0\n",
        "for m in model.modules():\n",
        "    if isinstance(m, nn.BatchNorm2d):\n",
        "        total += m.weight.data.shape[0]\n",
        "\n",
        "bn = torch.zeros(total)\n",
        "index = 0\n",
        "for m in model.modules():\n",
        "    if isinstance(m, nn.BatchNorm2d):\n",
        "        size = m.weight.data.shape[0]\n",
        "        bn[index:(index+size)] = m.weight.data.abs().clone() #將各個gamma取絕對值存到bm\n",
        "        index += size\n",
        "\n",
        "y, i = torch.sort(bn) #小到大排序\n",
        "\n",
        "\n",
        "threshold_index = int(total * PRUNE_PERCENT)\n",
        "threshold = y[threshold_index]  #排序後的 bn 張量中第 threshold_index 個位置的值。這個值將用作剪枝的閾值\n",
        "print(threshold)\n"
      ],
      "metadata": {
        "id": "xgtUBaDw1uuR",
        "colab": {
          "base_uri": "https://localhost:8080/"
        },
        "outputId": "8951faa5-0aff-4d2d-c44a-44460ef373e7"
      },
      "execution_count": null,
      "outputs": [
        {
          "output_type": "stream",
          "name": "stdout",
          "text": [
            "tensor(0.5365)\n"
          ]
        }
      ]
    },
    {
      "cell_type": "markdown",
      "source": [
        "##建立CONFIG，之後建立剪枝後網路時需要用到此CONFIG"
      ],
      "metadata": {
        "id": "1sy0JNTN-h3B"
      }
    },
    {
      "cell_type": "code",
      "source": [
        "pruned = 0\n",
        "cfg = []  #用來建立剪枝網路的CONFIG\n",
        "cfg_mask = [] #用來幫助剪枝的遮罩"
      ],
      "metadata": {
        "id": "PBklaqUZHnvp"
      },
      "execution_count": null,
      "outputs": []
    },
    {
      "cell_type": "markdown",
      "source": [
        "##根據Batch Normalization Layer資訊建立CONFIG\n",
        "####1.複製Batch Normalization Layer的weight(也就是scale factor)\n",
        "####2.建立mask，大於threshold的index的值會設成1,小於threshold的值會設成0\n",
        "####3.大於threshold的index的值加總後，會是剪枝後Layer對應的輸出channel\n",
        "####4.最後得到要建立剪枝模型的CONFIG"
      ],
      "metadata": {
        "id": "66vDWd5BMmph"
      }
    },
    {
      "cell_type": "code",
      "source": [
        "for k, m in enumerate(model.modules()):\n",
        "    if isinstance(m, nn.BatchNorm2d):\n",
        "        weight_copy = m.weight.data.clone()\n",
        "        mask = weight_copy.abs().gt(threshold).float().cuda()\n",
        "\n",
        "        # 注意: 需自行設計處理剩下channel數為0的情況 (e.g. 至少保留3個channel)\n",
        "        # 如果不足3個，至少保留3個最大的通道\n",
        "        if torch.sum(mask) < 3:\n",
        "            min_channels = 3\n",
        "            sorted, indices = torch.topk(weight_copy.abs(), min_channels)  # 找到最大的3個通道\n",
        "            mask[indices] = 1\n",
        "\n",
        "\n",
        "        pruned = pruned + mask.shape[0] - torch.sum(mask)   #torch.sum(mask)表示保留的通道數\n",
        "        cfg.append(int(torch.sum(mask)))\n",
        "        cfg_mask.append(mask.clone())\n",
        "        print('layer index: {:d} \\t total channel: {:d} \\t remaining channel: {:d}'.\n",
        "            format(k, mask.shape[0], int(torch.sum(mask))))\n",
        "    elif isinstance(m, nn.MaxPool2d):\n",
        "        cfg.append('M')\n",
        "\n",
        "pruned_ratio = pruned/total\n",
        "\n",
        "print(f'PRUNE RATIO={pruned_ratio}')\n",
        "print('PREPROCESSING SUCCESSFUL!')\n",
        "\n",
        "print(cfg)\n"
      ],
      "metadata": {
        "id": "10ilGgoZ1SR1",
        "colab": {
          "base_uri": "https://localhost:8080/"
        },
        "outputId": "fed7d0b0-2508-40f4-bfd8-26629d30d99e"
      },
      "execution_count": null,
      "outputs": [
        {
          "output_type": "stream",
          "name": "stdout",
          "text": [
            "layer index: 3 \t total channel: 64 \t remaining channel: 28\n",
            "layer index: 6 \t total channel: 64 \t remaining channel: 61\n",
            "layer index: 10 \t total channel: 128 \t remaining channel: 111\n",
            "layer index: 13 \t total channel: 128 \t remaining channel: 121\n",
            "layer index: 17 \t total channel: 256 \t remaining channel: 148\n",
            "layer index: 20 \t total channel: 256 \t remaining channel: 68\n",
            "layer index: 23 \t total channel: 256 \t remaining channel: 8\n",
            "layer index: 26 \t total channel: 256 \t remaining channel: 3\n",
            "layer index: 30 \t total channel: 512 \t remaining channel: 3\n",
            "layer index: 33 \t total channel: 512 \t remaining channel: 3\n",
            "layer index: 36 \t total channel: 512 \t remaining channel: 3\n",
            "layer index: 39 \t total channel: 512 \t remaining channel: 3\n",
            "layer index: 43 \t total channel: 512 \t remaining channel: 3\n",
            "layer index: 46 \t total channel: 512 \t remaining channel: 3\n",
            "layer index: 49 \t total channel: 512 \t remaining channel: 3\n",
            "layer index: 52 \t total channel: 512 \t remaining channel: 5\n",
            "PRUNE RATIO=0.8957121968269348\n",
            "PREPROCESSING SUCCESSFUL!\n",
            "[28, 61, 'M', 111, 121, 'M', 148, 68, 8, 3, 'M', 3, 3, 3, 3, 'M', 3, 3, 3, 5]\n"
          ]
        }
      ]
    },
    {
      "cell_type": "markdown",
      "source": [
        "###建立剪枝模型"
      ],
      "metadata": {
        "id": "_ha2BuBl1ifM"
      }
    },
    {
      "cell_type": "code",
      "source": [
        "newmodel = vgg(cfg=cfg)\n",
        "newmodel.cuda()"
      ],
      "metadata": {
        "id": "SlWNdj2f1nWs",
        "colab": {
          "base_uri": "https://localhost:8080/"
        },
        "outputId": "b5a008cd-bd86-406e-f0f3-1859c62fcd88"
      },
      "execution_count": null,
      "outputs": [
        {
          "output_type": "execute_result",
          "data": {
            "text/plain": [
              "vgg(\n",
              "  (feature): Sequential(\n",
              "    (0): Conv2d(3, 28, kernel_size=(3, 3), stride=(1, 1), padding=(1, 1), bias=False)\n",
              "    (1): BatchNorm2d(28, eps=1e-05, momentum=0.1, affine=True, track_running_stats=True)\n",
              "    (2): ReLU(inplace=True)\n",
              "    (3): Conv2d(28, 61, kernel_size=(3, 3), stride=(1, 1), padding=(1, 1), bias=False)\n",
              "    (4): BatchNorm2d(61, eps=1e-05, momentum=0.1, affine=True, track_running_stats=True)\n",
              "    (5): ReLU(inplace=True)\n",
              "    (6): MaxPool2d(kernel_size=2, stride=2, padding=0, dilation=1, ceil_mode=False)\n",
              "    (7): Conv2d(61, 111, kernel_size=(3, 3), stride=(1, 1), padding=(1, 1), bias=False)\n",
              "    (8): BatchNorm2d(111, eps=1e-05, momentum=0.1, affine=True, track_running_stats=True)\n",
              "    (9): ReLU(inplace=True)\n",
              "    (10): Conv2d(111, 121, kernel_size=(3, 3), stride=(1, 1), padding=(1, 1), bias=False)\n",
              "    (11): BatchNorm2d(121, eps=1e-05, momentum=0.1, affine=True, track_running_stats=True)\n",
              "    (12): ReLU(inplace=True)\n",
              "    (13): MaxPool2d(kernel_size=2, stride=2, padding=0, dilation=1, ceil_mode=False)\n",
              "    (14): Conv2d(121, 148, kernel_size=(3, 3), stride=(1, 1), padding=(1, 1), bias=False)\n",
              "    (15): BatchNorm2d(148, eps=1e-05, momentum=0.1, affine=True, track_running_stats=True)\n",
              "    (16): ReLU(inplace=True)\n",
              "    (17): Conv2d(148, 68, kernel_size=(3, 3), stride=(1, 1), padding=(1, 1), bias=False)\n",
              "    (18): BatchNorm2d(68, eps=1e-05, momentum=0.1, affine=True, track_running_stats=True)\n",
              "    (19): ReLU(inplace=True)\n",
              "    (20): Conv2d(68, 8, kernel_size=(3, 3), stride=(1, 1), padding=(1, 1), bias=False)\n",
              "    (21): BatchNorm2d(8, eps=1e-05, momentum=0.1, affine=True, track_running_stats=True)\n",
              "    (22): ReLU(inplace=True)\n",
              "    (23): Conv2d(8, 3, kernel_size=(3, 3), stride=(1, 1), padding=(1, 1), bias=False)\n",
              "    (24): BatchNorm2d(3, eps=1e-05, momentum=0.1, affine=True, track_running_stats=True)\n",
              "    (25): ReLU(inplace=True)\n",
              "    (26): MaxPool2d(kernel_size=2, stride=2, padding=0, dilation=1, ceil_mode=False)\n",
              "    (27): Conv2d(3, 3, kernel_size=(3, 3), stride=(1, 1), padding=(1, 1), bias=False)\n",
              "    (28): BatchNorm2d(3, eps=1e-05, momentum=0.1, affine=True, track_running_stats=True)\n",
              "    (29): ReLU(inplace=True)\n",
              "    (30): Conv2d(3, 3, kernel_size=(3, 3), stride=(1, 1), padding=(1, 1), bias=False)\n",
              "    (31): BatchNorm2d(3, eps=1e-05, momentum=0.1, affine=True, track_running_stats=True)\n",
              "    (32): ReLU(inplace=True)\n",
              "    (33): Conv2d(3, 3, kernel_size=(3, 3), stride=(1, 1), padding=(1, 1), bias=False)\n",
              "    (34): BatchNorm2d(3, eps=1e-05, momentum=0.1, affine=True, track_running_stats=True)\n",
              "    (35): ReLU(inplace=True)\n",
              "    (36): Conv2d(3, 3, kernel_size=(3, 3), stride=(1, 1), padding=(1, 1), bias=False)\n",
              "    (37): BatchNorm2d(3, eps=1e-05, momentum=0.1, affine=True, track_running_stats=True)\n",
              "    (38): ReLU(inplace=True)\n",
              "    (39): MaxPool2d(kernel_size=2, stride=2, padding=0, dilation=1, ceil_mode=False)\n",
              "    (40): Conv2d(3, 3, kernel_size=(3, 3), stride=(1, 1), padding=(1, 1), bias=False)\n",
              "    (41): BatchNorm2d(3, eps=1e-05, momentum=0.1, affine=True, track_running_stats=True)\n",
              "    (42): ReLU(inplace=True)\n",
              "    (43): Conv2d(3, 3, kernel_size=(3, 3), stride=(1, 1), padding=(1, 1), bias=False)\n",
              "    (44): BatchNorm2d(3, eps=1e-05, momentum=0.1, affine=True, track_running_stats=True)\n",
              "    (45): ReLU(inplace=True)\n",
              "    (46): Conv2d(3, 3, kernel_size=(3, 3), stride=(1, 1), padding=(1, 1), bias=False)\n",
              "    (47): BatchNorm2d(3, eps=1e-05, momentum=0.1, affine=True, track_running_stats=True)\n",
              "    (48): ReLU(inplace=True)\n",
              "    (49): Conv2d(3, 5, kernel_size=(3, 3), stride=(1, 1), padding=(1, 1), bias=False)\n",
              "    (50): BatchNorm2d(5, eps=1e-05, momentum=0.1, affine=True, track_running_stats=True)\n",
              "    (51): ReLU(inplace=True)\n",
              "  )\n",
              "  (classifier): Linear(in_features=5, out_features=10, bias=True)\n",
              ")"
            ]
          },
          "metadata": {},
          "execution_count": 13
        }
      ]
    },
    {
      "cell_type": "markdown",
      "source": [
        "###將原本的模型權重複製到剪枝的模型\n",
        "####1.決定該層的輸入與輸出Channel\n",
        "####2.根據不同層決定要複製什麼權重\n",
        "######Batch Normalization Layer\n",
        "1.   scale factor\n",
        "2.   bias\n",
        "3.   running mean\n",
        "4.   running variance\n",
        "\n",
        "######Convolutional Layer\n",
        "1.   weight\n",
        "2.   bias\n",
        "\n",
        "######Linear Layer\n",
        "1.   weight\n",
        "2.   bias\n",
        "\n"
      ],
      "metadata": {
        "id": "ms9Usgkh1Vbe"
      }
    },
    {
      "cell_type": "code",
      "execution_count": null,
      "metadata": {
        "id": "hQcKuMDee46V"
      },
      "outputs": [],
      "source": [
        "layer_id_in_cfg = 0\n",
        "start_mask = torch.ones(3) #3為input channel(R,G,B)\n",
        "end_mask = cfg_mask[layer_id_in_cfg]\n",
        "count = 0\n",
        "for [m0, m1] in zip(model.modules(), newmodel.modules()):\n",
        "    if isinstance(m0, nn.BatchNorm2d):\n",
        "\n",
        "        # 處理剪枝後的權重\n",
        "        m0.weight.data.mul_(end_mask) #weight x (1 or 0)\n",
        "        m0.bias.data.mul_(end_mask)\n",
        "\n",
        "        #### 找出遮罩中非零元素的index ####\n",
        "        ################################################\n",
        "        #          請填空          #\n",
        "        nonzero_index = torch.nonzero(end_mask).view(-1) #view(-1)將資料轉換為1d\n",
        "        ################################################\n",
        "\n",
        "\n",
        "        # 將原本模型的權重複製到剪枝模型的權重\n",
        "\n",
        "        #### 複製weight與bias ####\n",
        "        ################################################\n",
        "        #          請填空          #\n",
        "        m1.weight.data = m0.weight.data[nonzero_index].clone()\n",
        "        m1.bias.data = m0.bias.data[nonzero_index].clone()\n",
        "        ################################################\n",
        "\n",
        "\n",
        "        #### 複製running mean跟running variance ####\n",
        "        ################################################\n",
        "        #          請填空          #\n",
        "        m1.running_mean = m0.running_mean[nonzero_index].clone()\n",
        "        m1.running_var = m0.running_var[nonzero_index].clone()\n",
        "        ################################################\n",
        "\n",
        "\n",
        "\n",
        "        layer_id_in_cfg += 1\n",
        "        start_mask = end_mask.clone()\n",
        "\n",
        "        #最後一層連接層不做修改\n",
        "        if layer_id_in_cfg < len(cfg_mask):\n",
        "            end_mask = cfg_mask[layer_id_in_cfg]\n",
        "    elif isinstance(m0, nn.Conv2d):\n",
        "        # 將原本模型的捲積層權重複製到對應剪枝模型卷積層的權重\n",
        "        idx0 = np.squeeze(np.argwhere(np.asarray(start_mask.cpu().numpy())))\n",
        "        idx1 = np.squeeze(np.argwhere(np.asarray(end_mask.cpu().numpy())))\n",
        "\n",
        "        w = m0.weight.data[:, idx0, :, :].clone()\n",
        "        w = w[idx1, :, :, :].clone()\n",
        "        m1.weight.data = w.clone()\n",
        "        #m1.bias.data = m0.bias.data[idx1].clone()\n",
        "    elif isinstance(m0, nn.Linear):\n",
        "        # 參考 https://pytorch.org/docs/stable/generated/torch.nn.Linear.html 來決定該如何複製Linear Layer參數\n",
        "\n",
        "        idx0 = np.squeeze(np.argwhere(np.asarray(start_mask.cpu().numpy())))\n",
        "\n",
        "        #### 複製weight ####\n",
        "        ################################################\n",
        "        #          請填空          #\n",
        "        m1.weight.data = m0.weight.data[:,idx0].clone()\n",
        "        ################################################\n",
        "\n",
        "\n",
        "\n",
        "        #### 複製bias ####\n",
        "        ################################################\n",
        "        #          請填空          #\n",
        "        m1.bias.data = m0.bias.data.clone()\n",
        "        ################################################\n",
        "\n"
      ]
    },
    {
      "cell_type": "markdown",
      "source": [
        "####儲存模型並印出結果\n"
      ],
      "metadata": {
        "id": "AFkMmFLo88mc"
      }
    },
    {
      "cell_type": "code",
      "source": [
        "torch.save({'cfg': cfg, 'state_dict': newmodel.state_dict()}, PRUNE_PATH)\n",
        "\n",
        "print(newmodel)\n",
        "model = newmodel\n",
        "test(newmodel)"
      ],
      "metadata": {
        "id": "cuo3HXHt9Ar-",
        "colab": {
          "base_uri": "https://localhost:8080/"
        },
        "outputId": "b6d3efd4-b947-4590-a313-eb6ac9d7db6f"
      },
      "execution_count": null,
      "outputs": [
        {
          "output_type": "stream",
          "name": "stdout",
          "text": [
            "vgg(\n",
            "  (feature): Sequential(\n",
            "    (0): Conv2d(3, 28, kernel_size=(3, 3), stride=(1, 1), padding=(1, 1), bias=False)\n",
            "    (1): BatchNorm2d(28, eps=1e-05, momentum=0.1, affine=True, track_running_stats=True)\n",
            "    (2): ReLU(inplace=True)\n",
            "    (3): Conv2d(28, 61, kernel_size=(3, 3), stride=(1, 1), padding=(1, 1), bias=False)\n",
            "    (4): BatchNorm2d(61, eps=1e-05, momentum=0.1, affine=True, track_running_stats=True)\n",
            "    (5): ReLU(inplace=True)\n",
            "    (6): MaxPool2d(kernel_size=2, stride=2, padding=0, dilation=1, ceil_mode=False)\n",
            "    (7): Conv2d(61, 111, kernel_size=(3, 3), stride=(1, 1), padding=(1, 1), bias=False)\n",
            "    (8): BatchNorm2d(111, eps=1e-05, momentum=0.1, affine=True, track_running_stats=True)\n",
            "    (9): ReLU(inplace=True)\n",
            "    (10): Conv2d(111, 121, kernel_size=(3, 3), stride=(1, 1), padding=(1, 1), bias=False)\n",
            "    (11): BatchNorm2d(121, eps=1e-05, momentum=0.1, affine=True, track_running_stats=True)\n",
            "    (12): ReLU(inplace=True)\n",
            "    (13): MaxPool2d(kernel_size=2, stride=2, padding=0, dilation=1, ceil_mode=False)\n",
            "    (14): Conv2d(121, 148, kernel_size=(3, 3), stride=(1, 1), padding=(1, 1), bias=False)\n",
            "    (15): BatchNorm2d(148, eps=1e-05, momentum=0.1, affine=True, track_running_stats=True)\n",
            "    (16): ReLU(inplace=True)\n",
            "    (17): Conv2d(148, 68, kernel_size=(3, 3), stride=(1, 1), padding=(1, 1), bias=False)\n",
            "    (18): BatchNorm2d(68, eps=1e-05, momentum=0.1, affine=True, track_running_stats=True)\n",
            "    (19): ReLU(inplace=True)\n",
            "    (20): Conv2d(68, 8, kernel_size=(3, 3), stride=(1, 1), padding=(1, 1), bias=False)\n",
            "    (21): BatchNorm2d(8, eps=1e-05, momentum=0.1, affine=True, track_running_stats=True)\n",
            "    (22): ReLU(inplace=True)\n",
            "    (23): Conv2d(8, 3, kernel_size=(3, 3), stride=(1, 1), padding=(1, 1), bias=False)\n",
            "    (24): BatchNorm2d(3, eps=1e-05, momentum=0.1, affine=True, track_running_stats=True)\n",
            "    (25): ReLU(inplace=True)\n",
            "    (26): MaxPool2d(kernel_size=2, stride=2, padding=0, dilation=1, ceil_mode=False)\n",
            "    (27): Conv2d(3, 3, kernel_size=(3, 3), stride=(1, 1), padding=(1, 1), bias=False)\n",
            "    (28): BatchNorm2d(3, eps=1e-05, momentum=0.1, affine=True, track_running_stats=True)\n",
            "    (29): ReLU(inplace=True)\n",
            "    (30): Conv2d(3, 3, kernel_size=(3, 3), stride=(1, 1), padding=(1, 1), bias=False)\n",
            "    (31): BatchNorm2d(3, eps=1e-05, momentum=0.1, affine=True, track_running_stats=True)\n",
            "    (32): ReLU(inplace=True)\n",
            "    (33): Conv2d(3, 3, kernel_size=(3, 3), stride=(1, 1), padding=(1, 1), bias=False)\n",
            "    (34): BatchNorm2d(3, eps=1e-05, momentum=0.1, affine=True, track_running_stats=True)\n",
            "    (35): ReLU(inplace=True)\n",
            "    (36): Conv2d(3, 3, kernel_size=(3, 3), stride=(1, 1), padding=(1, 1), bias=False)\n",
            "    (37): BatchNorm2d(3, eps=1e-05, momentum=0.1, affine=True, track_running_stats=True)\n",
            "    (38): ReLU(inplace=True)\n",
            "    (39): MaxPool2d(kernel_size=2, stride=2, padding=0, dilation=1, ceil_mode=False)\n",
            "    (40): Conv2d(3, 3, kernel_size=(3, 3), stride=(1, 1), padding=(1, 1), bias=False)\n",
            "    (41): BatchNorm2d(3, eps=1e-05, momentum=0.1, affine=True, track_running_stats=True)\n",
            "    (42): ReLU(inplace=True)\n",
            "    (43): Conv2d(3, 3, kernel_size=(3, 3), stride=(1, 1), padding=(1, 1), bias=False)\n",
            "    (44): BatchNorm2d(3, eps=1e-05, momentum=0.1, affine=True, track_running_stats=True)\n",
            "    (45): ReLU(inplace=True)\n",
            "    (46): Conv2d(3, 3, kernel_size=(3, 3), stride=(1, 1), padding=(1, 1), bias=False)\n",
            "    (47): BatchNorm2d(3, eps=1e-05, momentum=0.1, affine=True, track_running_stats=True)\n",
            "    (48): ReLU(inplace=True)\n",
            "    (49): Conv2d(3, 5, kernel_size=(3, 3), stride=(1, 1), padding=(1, 1), bias=False)\n",
            "    (50): BatchNorm2d(5, eps=1e-05, momentum=0.1, affine=True, track_running_stats=True)\n",
            "    (51): ReLU(inplace=True)\n",
            "  )\n",
            "  (classifier): Linear(in_features=5, out_features=10, bias=True)\n",
            ")\n",
            "Files already downloaded and verified\n",
            "\n",
            "Test set: Accuracy: 1000/10000 (10.0%)\n",
            "\n"
          ]
        },
        {
          "output_type": "execute_result",
          "data": {
            "text/plain": [
              "tensor(0.1000)"
            ]
          },
          "metadata": {},
          "execution_count": 15
        }
      ]
    },
    {
      "cell_type": "markdown",
      "source": [
        "##超參數設定 PRUEN=0.5"
      ],
      "metadata": {
        "id": "CIPe8QqbO2JI"
      }
    },
    {
      "cell_type": "code",
      "source": [
        "DATASET = 'cifar10'\n",
        "TEST_BATCH_SIZE = 1000\n",
        "CUDA = True\n",
        "PRUNE_PERCENT = 0.5 # Change your prune ratio!\n",
        "WEIGHT_PATH = '/content/drive/MyDrive/Colab Notebooks/model_best.pth'\n",
        "PRUNE_PATH = '/content/drive/MyDrive/Colab Notebooks/model_prune2.pth'\n"
      ],
      "metadata": {
        "id": "nBatqEO3O1Ow"
      },
      "execution_count": null,
      "outputs": []
    },
    {
      "cell_type": "code",
      "source": [
        "CUDA = CUDA and torch.cuda.is_available()\n",
        "\n",
        "model = vgg()\n",
        "if CUDA:\n",
        "    model.cuda()\n",
        "\n",
        "if WEIGHT_PATH:\n",
        "    if os.path.isfile(WEIGHT_PATH):\n",
        "        checkpoint = torch.load(WEIGHT_PATH)\n",
        "        best_prec1 = checkpoint['best_prec1']\n",
        "        model.load_state_dict(checkpoint['state_dict'])\n",
        "        print('LOADING CHECKPOINT {} @EPOCH={}, BEST_PREC1={}'.format(WEIGHT_PATH,checkpoint['epoch'],best_prec1))\n",
        "\n",
        "    else:\n",
        "        print(\"NO CHECKPOINT FOUND\")\n",
        "\n",
        "print(model)"
      ],
      "metadata": {
        "colab": {
          "base_uri": "https://localhost:8080/"
        },
        "id": "GtuYXECePGVp",
        "outputId": "b77189ee-fbcf-4061-b9ab-8cc80e8a048d"
      },
      "execution_count": null,
      "outputs": [
        {
          "output_type": "stream",
          "name": "stdout",
          "text": [
            "LOADING CHECKPOINT /content/drive/MyDrive/Colab Notebooks/model_best.pth @EPOCH=52, BEST_PREC1=0.9265999794006348\n",
            "vgg(\n",
            "  (feature): Sequential(\n",
            "    (0): Conv2d(3, 64, kernel_size=(3, 3), stride=(1, 1), padding=(1, 1), bias=False)\n",
            "    (1): BatchNorm2d(64, eps=1e-05, momentum=0.1, affine=True, track_running_stats=True)\n",
            "    (2): ReLU(inplace=True)\n",
            "    (3): Conv2d(64, 64, kernel_size=(3, 3), stride=(1, 1), padding=(1, 1), bias=False)\n",
            "    (4): BatchNorm2d(64, eps=1e-05, momentum=0.1, affine=True, track_running_stats=True)\n",
            "    (5): ReLU(inplace=True)\n",
            "    (6): MaxPool2d(kernel_size=2, stride=2, padding=0, dilation=1, ceil_mode=False)\n",
            "    (7): Conv2d(64, 128, kernel_size=(3, 3), stride=(1, 1), padding=(1, 1), bias=False)\n",
            "    (8): BatchNorm2d(128, eps=1e-05, momentum=0.1, affine=True, track_running_stats=True)\n",
            "    (9): ReLU(inplace=True)\n",
            "    (10): Conv2d(128, 128, kernel_size=(3, 3), stride=(1, 1), padding=(1, 1), bias=False)\n",
            "    (11): BatchNorm2d(128, eps=1e-05, momentum=0.1, affine=True, track_running_stats=True)\n",
            "    (12): ReLU(inplace=True)\n",
            "    (13): MaxPool2d(kernel_size=2, stride=2, padding=0, dilation=1, ceil_mode=False)\n",
            "    (14): Conv2d(128, 256, kernel_size=(3, 3), stride=(1, 1), padding=(1, 1), bias=False)\n",
            "    (15): BatchNorm2d(256, eps=1e-05, momentum=0.1, affine=True, track_running_stats=True)\n",
            "    (16): ReLU(inplace=True)\n",
            "    (17): Conv2d(256, 256, kernel_size=(3, 3), stride=(1, 1), padding=(1, 1), bias=False)\n",
            "    (18): BatchNorm2d(256, eps=1e-05, momentum=0.1, affine=True, track_running_stats=True)\n",
            "    (19): ReLU(inplace=True)\n",
            "    (20): Conv2d(256, 256, kernel_size=(3, 3), stride=(1, 1), padding=(1, 1), bias=False)\n",
            "    (21): BatchNorm2d(256, eps=1e-05, momentum=0.1, affine=True, track_running_stats=True)\n",
            "    (22): ReLU(inplace=True)\n",
            "    (23): Conv2d(256, 256, kernel_size=(3, 3), stride=(1, 1), padding=(1, 1), bias=False)\n",
            "    (24): BatchNorm2d(256, eps=1e-05, momentum=0.1, affine=True, track_running_stats=True)\n",
            "    (25): ReLU(inplace=True)\n",
            "    (26): MaxPool2d(kernel_size=2, stride=2, padding=0, dilation=1, ceil_mode=False)\n",
            "    (27): Conv2d(256, 512, kernel_size=(3, 3), stride=(1, 1), padding=(1, 1), bias=False)\n",
            "    (28): BatchNorm2d(512, eps=1e-05, momentum=0.1, affine=True, track_running_stats=True)\n",
            "    (29): ReLU(inplace=True)\n",
            "    (30): Conv2d(512, 512, kernel_size=(3, 3), stride=(1, 1), padding=(1, 1), bias=False)\n",
            "    (31): BatchNorm2d(512, eps=1e-05, momentum=0.1, affine=True, track_running_stats=True)\n",
            "    (32): ReLU(inplace=True)\n",
            "    (33): Conv2d(512, 512, kernel_size=(3, 3), stride=(1, 1), padding=(1, 1), bias=False)\n",
            "    (34): BatchNorm2d(512, eps=1e-05, momentum=0.1, affine=True, track_running_stats=True)\n",
            "    (35): ReLU(inplace=True)\n",
            "    (36): Conv2d(512, 512, kernel_size=(3, 3), stride=(1, 1), padding=(1, 1), bias=False)\n",
            "    (37): BatchNorm2d(512, eps=1e-05, momentum=0.1, affine=True, track_running_stats=True)\n",
            "    (38): ReLU(inplace=True)\n",
            "    (39): MaxPool2d(kernel_size=2, stride=2, padding=0, dilation=1, ceil_mode=False)\n",
            "    (40): Conv2d(512, 512, kernel_size=(3, 3), stride=(1, 1), padding=(1, 1), bias=False)\n",
            "    (41): BatchNorm2d(512, eps=1e-05, momentum=0.1, affine=True, track_running_stats=True)\n",
            "    (42): ReLU(inplace=True)\n",
            "    (43): Conv2d(512, 512, kernel_size=(3, 3), stride=(1, 1), padding=(1, 1), bias=False)\n",
            "    (44): BatchNorm2d(512, eps=1e-05, momentum=0.1, affine=True, track_running_stats=True)\n",
            "    (45): ReLU(inplace=True)\n",
            "    (46): Conv2d(512, 512, kernel_size=(3, 3), stride=(1, 1), padding=(1, 1), bias=False)\n",
            "    (47): BatchNorm2d(512, eps=1e-05, momentum=0.1, affine=True, track_running_stats=True)\n",
            "    (48): ReLU(inplace=True)\n",
            "    (49): Conv2d(512, 512, kernel_size=(3, 3), stride=(1, 1), padding=(1, 1), bias=False)\n",
            "    (50): BatchNorm2d(512, eps=1e-05, momentum=0.1, affine=True, track_running_stats=True)\n",
            "    (51): ReLU(inplace=True)\n",
            "  )\n",
            "  (classifier): Linear(in_features=512, out_features=10, bias=True)\n",
            ")\n"
          ]
        }
      ]
    },
    {
      "cell_type": "code",
      "source": [
        "def test(model):\n",
        "    kwargs = {'num_workers': 1, 'pin_memory': True} if CUDA else {}\n",
        "    test_loader = torch.utils.data.DataLoader(\n",
        "        datasets.CIFAR10('./data', train=False, download=True, transform=transforms.Compose([\n",
        "            transforms.ToTensor(),\n",
        "            transforms.Normalize((0.5, 0.5, 0.5), (0.5, 0.5, 0.5))])),\n",
        "        batch_size=TEST_BATCH_SIZE, shuffle=True, **kwargs)\n",
        "    model.eval()\n",
        "    correct = 0\n",
        "    with torch.no_grad():\n",
        "      for data, target in test_loader:\n",
        "          if CUDA:\n",
        "              data, target = data.cuda(), target.cuda()\n",
        "          data, target = Variable(data), Variable(target)\n",
        "          output = model(data)\n",
        "          pred = output.data.max(1, keepdim=True)[1]\n",
        "          correct += pred.eq(target.data.view_as(pred)).cpu().sum()\n",
        "\n",
        "    print('\\nTest set: Accuracy: {}/{} ({:.1f}%)\\n'.format(\n",
        "        correct, len(test_loader.dataset), 100. * correct / len(test_loader.dataset)))\n",
        "    return correct / float(len(test_loader.dataset))"
      ],
      "metadata": {
        "id": "d_mnq8iqPH-X"
      },
      "execution_count": null,
      "outputs": []
    },
    {
      "cell_type": "code",
      "source": [
        "total = 0\n",
        "for m in model.modules():\n",
        "    if isinstance(m, nn.BatchNorm2d):\n",
        "        total += m.weight.data.shape[0]\n",
        "\n",
        "bn = torch.zeros(total)\n",
        "index = 0\n",
        "for m in model.modules():\n",
        "    if isinstance(m, nn.BatchNorm2d):\n",
        "        size = m.weight.data.shape[0]\n",
        "        bn[index:(index+size)] = m.weight.data.abs().clone() #將各個gamma取絕對值存到bm\n",
        "        index += size\n",
        "\n",
        "y, i = torch.sort(bn) #小到大排序\n",
        "\n",
        "\n",
        "threshold_index = int(total * PRUNE_PERCENT)\n",
        "threshold = y[threshold_index]  #排序後的 bn 張量中第 threshold_index 個位置的值。這個值將用作剪枝的閾值\n",
        "print(threshold)\n"
      ],
      "metadata": {
        "colab": {
          "base_uri": "https://localhost:8080/"
        },
        "id": "hhUXtKaUPKAL",
        "outputId": "9405dd6d-f8fb-4726-9c41-7960a422eb31"
      },
      "execution_count": null,
      "outputs": [
        {
          "output_type": "stream",
          "name": "stdout",
          "text": [
            "tensor(0.0221)\n"
          ]
        }
      ]
    },
    {
      "cell_type": "code",
      "source": [
        "pruned = 0\n",
        "cfg = []  #用來建立剪枝網路的CONFIG\n",
        "cfg_mask = [] #用來幫助剪枝的遮罩"
      ],
      "metadata": {
        "id": "jQzvxN05PLwv"
      },
      "execution_count": null,
      "outputs": []
    },
    {
      "cell_type": "code",
      "source": [
        "for k, m in enumerate(model.modules()):\n",
        "    if isinstance(m, nn.BatchNorm2d):\n",
        "        weight_copy = m.weight.data.clone()\n",
        "        mask = weight_copy.abs().gt(threshold).float().cuda()\n",
        "\n",
        "        # 注意: 需自行設計處理剩下channel數為0的情況 (e.g. 至少保留3個channel)\n",
        "        # 如果不足3個，至少保留3個最大的通道\n",
        "        if torch.sum(mask) < 3:\n",
        "            min_channels = 3\n",
        "            sorted, indices = torch.topk(weight_copy.abs(), min_channels)  # 找到最大的3個通道\n",
        "            mask[indices] = 1\n",
        "\n",
        "\n",
        "        pruned = pruned + mask.shape[0] - torch.sum(mask)   #torch.sum(mask)表示保留的通道數\n",
        "        cfg.append(int(torch.sum(mask)))\n",
        "        cfg_mask.append(mask.clone())\n",
        "        print('layer index: {:d} \\t total channel: {:d} \\t remaining channel: {:d}'.\n",
        "            format(k, mask.shape[0], int(torch.sum(mask))))\n",
        "    elif isinstance(m, nn.MaxPool2d):\n",
        "        cfg.append('M')\n",
        "\n",
        "pruned_ratio = pruned/total\n",
        "\n",
        "print(f'PRUNE RATIO={pruned_ratio}')\n",
        "print('PREPROCESSING SUCCESSFUL!')\n",
        "\n",
        "print(cfg)\n"
      ],
      "metadata": {
        "colab": {
          "base_uri": "https://localhost:8080/"
        },
        "id": "M0mDlj0CPNRl",
        "outputId": "354ebc5c-4a70-4aa7-ef24-9ad8cdfbbd3c"
      },
      "execution_count": null,
      "outputs": [
        {
          "output_type": "stream",
          "name": "stdout",
          "text": [
            "layer index: 3 \t total channel: 64 \t remaining channel: 55\n",
            "layer index: 6 \t total channel: 64 \t remaining channel: 64\n",
            "layer index: 10 \t total channel: 128 \t remaining channel: 128\n",
            "layer index: 13 \t total channel: 128 \t remaining channel: 128\n",
            "layer index: 17 \t total channel: 256 \t remaining channel: 256\n",
            "layer index: 20 \t total channel: 256 \t remaining channel: 255\n",
            "layer index: 23 \t total channel: 256 \t remaining channel: 253\n",
            "layer index: 26 \t total channel: 256 \t remaining channel: 246\n",
            "layer index: 30 \t total channel: 512 \t remaining channel: 308\n",
            "layer index: 33 \t total channel: 512 \t remaining channel: 188\n",
            "layer index: 36 \t total channel: 512 \t remaining channel: 171\n",
            "layer index: 39 \t total channel: 512 \t remaining channel: 114\n",
            "layer index: 43 \t total channel: 512 \t remaining channel: 89\n",
            "layer index: 46 \t total channel: 512 \t remaining channel: 106\n",
            "layer index: 49 \t total channel: 512 \t remaining channel: 142\n",
            "layer index: 52 \t total channel: 512 \t remaining channel: 248\n",
            "PRUNE RATIO=0.5001816749572754\n",
            "PREPROCESSING SUCCESSFUL!\n",
            "[55, 64, 'M', 128, 128, 'M', 256, 255, 253, 246, 'M', 308, 188, 171, 114, 'M', 89, 106, 142, 248]\n"
          ]
        }
      ]
    },
    {
      "cell_type": "code",
      "source": [
        "newmodel = vgg(cfg=cfg)\n",
        "newmodel.cuda()"
      ],
      "metadata": {
        "colab": {
          "base_uri": "https://localhost:8080/"
        },
        "id": "N8eOekxYPPQZ",
        "outputId": "fc17b773-88cf-4b98-8f9f-cf6d6eb5dac4"
      },
      "execution_count": null,
      "outputs": [
        {
          "output_type": "execute_result",
          "data": {
            "text/plain": [
              "vgg(\n",
              "  (feature): Sequential(\n",
              "    (0): Conv2d(3, 55, kernel_size=(3, 3), stride=(1, 1), padding=(1, 1), bias=False)\n",
              "    (1): BatchNorm2d(55, eps=1e-05, momentum=0.1, affine=True, track_running_stats=True)\n",
              "    (2): ReLU(inplace=True)\n",
              "    (3): Conv2d(55, 64, kernel_size=(3, 3), stride=(1, 1), padding=(1, 1), bias=False)\n",
              "    (4): BatchNorm2d(64, eps=1e-05, momentum=0.1, affine=True, track_running_stats=True)\n",
              "    (5): ReLU(inplace=True)\n",
              "    (6): MaxPool2d(kernel_size=2, stride=2, padding=0, dilation=1, ceil_mode=False)\n",
              "    (7): Conv2d(64, 128, kernel_size=(3, 3), stride=(1, 1), padding=(1, 1), bias=False)\n",
              "    (8): BatchNorm2d(128, eps=1e-05, momentum=0.1, affine=True, track_running_stats=True)\n",
              "    (9): ReLU(inplace=True)\n",
              "    (10): Conv2d(128, 128, kernel_size=(3, 3), stride=(1, 1), padding=(1, 1), bias=False)\n",
              "    (11): BatchNorm2d(128, eps=1e-05, momentum=0.1, affine=True, track_running_stats=True)\n",
              "    (12): ReLU(inplace=True)\n",
              "    (13): MaxPool2d(kernel_size=2, stride=2, padding=0, dilation=1, ceil_mode=False)\n",
              "    (14): Conv2d(128, 256, kernel_size=(3, 3), stride=(1, 1), padding=(1, 1), bias=False)\n",
              "    (15): BatchNorm2d(256, eps=1e-05, momentum=0.1, affine=True, track_running_stats=True)\n",
              "    (16): ReLU(inplace=True)\n",
              "    (17): Conv2d(256, 255, kernel_size=(3, 3), stride=(1, 1), padding=(1, 1), bias=False)\n",
              "    (18): BatchNorm2d(255, eps=1e-05, momentum=0.1, affine=True, track_running_stats=True)\n",
              "    (19): ReLU(inplace=True)\n",
              "    (20): Conv2d(255, 253, kernel_size=(3, 3), stride=(1, 1), padding=(1, 1), bias=False)\n",
              "    (21): BatchNorm2d(253, eps=1e-05, momentum=0.1, affine=True, track_running_stats=True)\n",
              "    (22): ReLU(inplace=True)\n",
              "    (23): Conv2d(253, 246, kernel_size=(3, 3), stride=(1, 1), padding=(1, 1), bias=False)\n",
              "    (24): BatchNorm2d(246, eps=1e-05, momentum=0.1, affine=True, track_running_stats=True)\n",
              "    (25): ReLU(inplace=True)\n",
              "    (26): MaxPool2d(kernel_size=2, stride=2, padding=0, dilation=1, ceil_mode=False)\n",
              "    (27): Conv2d(246, 308, kernel_size=(3, 3), stride=(1, 1), padding=(1, 1), bias=False)\n",
              "    (28): BatchNorm2d(308, eps=1e-05, momentum=0.1, affine=True, track_running_stats=True)\n",
              "    (29): ReLU(inplace=True)\n",
              "    (30): Conv2d(308, 188, kernel_size=(3, 3), stride=(1, 1), padding=(1, 1), bias=False)\n",
              "    (31): BatchNorm2d(188, eps=1e-05, momentum=0.1, affine=True, track_running_stats=True)\n",
              "    (32): ReLU(inplace=True)\n",
              "    (33): Conv2d(188, 171, kernel_size=(3, 3), stride=(1, 1), padding=(1, 1), bias=False)\n",
              "    (34): BatchNorm2d(171, eps=1e-05, momentum=0.1, affine=True, track_running_stats=True)\n",
              "    (35): ReLU(inplace=True)\n",
              "    (36): Conv2d(171, 114, kernel_size=(3, 3), stride=(1, 1), padding=(1, 1), bias=False)\n",
              "    (37): BatchNorm2d(114, eps=1e-05, momentum=0.1, affine=True, track_running_stats=True)\n",
              "    (38): ReLU(inplace=True)\n",
              "    (39): MaxPool2d(kernel_size=2, stride=2, padding=0, dilation=1, ceil_mode=False)\n",
              "    (40): Conv2d(114, 89, kernel_size=(3, 3), stride=(1, 1), padding=(1, 1), bias=False)\n",
              "    (41): BatchNorm2d(89, eps=1e-05, momentum=0.1, affine=True, track_running_stats=True)\n",
              "    (42): ReLU(inplace=True)\n",
              "    (43): Conv2d(89, 106, kernel_size=(3, 3), stride=(1, 1), padding=(1, 1), bias=False)\n",
              "    (44): BatchNorm2d(106, eps=1e-05, momentum=0.1, affine=True, track_running_stats=True)\n",
              "    (45): ReLU(inplace=True)\n",
              "    (46): Conv2d(106, 142, kernel_size=(3, 3), stride=(1, 1), padding=(1, 1), bias=False)\n",
              "    (47): BatchNorm2d(142, eps=1e-05, momentum=0.1, affine=True, track_running_stats=True)\n",
              "    (48): ReLU(inplace=True)\n",
              "    (49): Conv2d(142, 248, kernel_size=(3, 3), stride=(1, 1), padding=(1, 1), bias=False)\n",
              "    (50): BatchNorm2d(248, eps=1e-05, momentum=0.1, affine=True, track_running_stats=True)\n",
              "    (51): ReLU(inplace=True)\n",
              "  )\n",
              "  (classifier): Linear(in_features=248, out_features=10, bias=True)\n",
              ")"
            ]
          },
          "metadata": {},
          "execution_count": 10
        }
      ]
    },
    {
      "cell_type": "markdown",
      "source": [
        "將原本的模型權重複製到剪枝的模型\n",
        "1.決定該層的輸入與輸出Channel\n",
        "2.根據不同層決定要複製什麼權重\n",
        "Batch Normalization Layer\n",
        "scale factor\n",
        "bias\n",
        "running mean\n",
        "running variance\n",
        "Convolutional Layer\n",
        "weight\n",
        "bias\n",
        "Linear Layer\n",
        "weight\n",
        "bias"
      ],
      "metadata": {
        "id": "QHODfVDGZbe7"
      }
    },
    {
      "cell_type": "code",
      "source": [
        "layer_id_in_cfg = 0\n",
        "start_mask = torch.ones(3) #3為input channel(R,G,B)\n",
        "end_mask = cfg_mask[layer_id_in_cfg]\n",
        "count = 0\n",
        "for [m0, m1] in zip(model.modules(), newmodel.modules()):\n",
        "    if isinstance(m0, nn.BatchNorm2d):\n",
        "\n",
        "        # 處理剪枝後的權重\n",
        "        m0.weight.data.mul_(end_mask) #weight x (1 or 0)\n",
        "        m0.bias.data.mul_(end_mask)\n",
        "\n",
        "        #### 找出遮罩中非零元素的index ####\n",
        "        ################################################\n",
        "        #          請填空          #\n",
        "        nonzero_index = torch.nonzero(end_mask).view(-1) #view(-1)將資料轉換為1d\n",
        "        ################################################\n",
        "\n",
        "\n",
        "        # 將原本模型的權重複製到剪枝模型的權重\n",
        "\n",
        "        #### 複製weight與bias ####\n",
        "        ################################################\n",
        "        #          請填空          #\n",
        "        m1.weight.data = m0.weight.data[nonzero_index].clone()\n",
        "        m1.bias.data = m0.bias.data[nonzero_index].clone()\n",
        "        ################################################\n",
        "\n",
        "\n",
        "        #### 複製running mean跟running variance ####\n",
        "        ################################################\n",
        "        #          請填空          #\n",
        "        m1.running_mean = m0.running_mean[nonzero_index].clone()\n",
        "        m1.running_var = m0.running_var[nonzero_index].clone()\n",
        "        ################################################\n",
        "\n",
        "\n",
        "\n",
        "        layer_id_in_cfg += 1\n",
        "        start_mask = end_mask.clone()\n",
        "\n",
        "        #最後一層連接層不做修改\n",
        "        if layer_id_in_cfg < len(cfg_mask):\n",
        "            end_mask = cfg_mask[layer_id_in_cfg]\n",
        "    elif isinstance(m0, nn.Conv2d):\n",
        "        # 將原本模型的捲積層權重複製到對應剪枝模型卷積層的權重\n",
        "        idx0 = np.squeeze(np.argwhere(np.asarray(start_mask.cpu().numpy())))\n",
        "        idx1 = np.squeeze(np.argwhere(np.asarray(end_mask.cpu().numpy())))\n",
        "\n",
        "        w = m0.weight.data[:, idx0, :, :].clone()\n",
        "        w = w[idx1, :, :, :].clone()\n",
        "        m1.weight.data = w.clone()\n",
        "        #m1.bias.data = m0.bias.data[idx1].clone()\n",
        "    elif isinstance(m0, nn.Linear):\n",
        "        # 參考 https://pytorch.org/docs/stable/generated/torch.nn.Linear.html 來決定該如何複製Linear Layer參數\n",
        "\n",
        "        idx0 = np.squeeze(np.argwhere(np.asarray(start_mask.cpu().numpy())))\n",
        "\n",
        "        #### 複製weight ####\n",
        "        ################################################\n",
        "        #          請填空          #\n",
        "        m1.weight.data = m0.weight.data[:,idx0].clone()\n",
        "        ################################################\n",
        "\n",
        "\n",
        "\n",
        "        #### 複製bias ####\n",
        "        ################################################\n",
        "        #          請填空          #\n",
        "        m1.bias.data = m0.bias.data.clone()\n",
        "        ################################################\n",
        "\n"
      ],
      "metadata": {
        "id": "1l-Hs9rHPQnD"
      },
      "execution_count": null,
      "outputs": []
    },
    {
      "cell_type": "markdown",
      "source": [
        "儲存模型並印出結果"
      ],
      "metadata": {
        "id": "lkOVJbmKZVUI"
      }
    },
    {
      "cell_type": "code",
      "source": [
        "torch.save({'cfg': cfg, 'state_dict': newmodel.state_dict()}, PRUNE_PATH)\n",
        "\n",
        "print(newmodel)\n",
        "model = newmodel\n",
        "test(newmodel)"
      ],
      "metadata": {
        "colab": {
          "base_uri": "https://localhost:8080/"
        },
        "id": "44CAbFkIPTuH",
        "outputId": "7a21aee2-c870-476c-d50b-03c6e1d04581"
      },
      "execution_count": null,
      "outputs": [
        {
          "output_type": "stream",
          "name": "stdout",
          "text": [
            "vgg(\n",
            "  (feature): Sequential(\n",
            "    (0): Conv2d(3, 55, kernel_size=(3, 3), stride=(1, 1), padding=(1, 1), bias=False)\n",
            "    (1): BatchNorm2d(55, eps=1e-05, momentum=0.1, affine=True, track_running_stats=True)\n",
            "    (2): ReLU(inplace=True)\n",
            "    (3): Conv2d(55, 64, kernel_size=(3, 3), stride=(1, 1), padding=(1, 1), bias=False)\n",
            "    (4): BatchNorm2d(64, eps=1e-05, momentum=0.1, affine=True, track_running_stats=True)\n",
            "    (5): ReLU(inplace=True)\n",
            "    (6): MaxPool2d(kernel_size=2, stride=2, padding=0, dilation=1, ceil_mode=False)\n",
            "    (7): Conv2d(64, 128, kernel_size=(3, 3), stride=(1, 1), padding=(1, 1), bias=False)\n",
            "    (8): BatchNorm2d(128, eps=1e-05, momentum=0.1, affine=True, track_running_stats=True)\n",
            "    (9): ReLU(inplace=True)\n",
            "    (10): Conv2d(128, 128, kernel_size=(3, 3), stride=(1, 1), padding=(1, 1), bias=False)\n",
            "    (11): BatchNorm2d(128, eps=1e-05, momentum=0.1, affine=True, track_running_stats=True)\n",
            "    (12): ReLU(inplace=True)\n",
            "    (13): MaxPool2d(kernel_size=2, stride=2, padding=0, dilation=1, ceil_mode=False)\n",
            "    (14): Conv2d(128, 256, kernel_size=(3, 3), stride=(1, 1), padding=(1, 1), bias=False)\n",
            "    (15): BatchNorm2d(256, eps=1e-05, momentum=0.1, affine=True, track_running_stats=True)\n",
            "    (16): ReLU(inplace=True)\n",
            "    (17): Conv2d(256, 255, kernel_size=(3, 3), stride=(1, 1), padding=(1, 1), bias=False)\n",
            "    (18): BatchNorm2d(255, eps=1e-05, momentum=0.1, affine=True, track_running_stats=True)\n",
            "    (19): ReLU(inplace=True)\n",
            "    (20): Conv2d(255, 253, kernel_size=(3, 3), stride=(1, 1), padding=(1, 1), bias=False)\n",
            "    (21): BatchNorm2d(253, eps=1e-05, momentum=0.1, affine=True, track_running_stats=True)\n",
            "    (22): ReLU(inplace=True)\n",
            "    (23): Conv2d(253, 246, kernel_size=(3, 3), stride=(1, 1), padding=(1, 1), bias=False)\n",
            "    (24): BatchNorm2d(246, eps=1e-05, momentum=0.1, affine=True, track_running_stats=True)\n",
            "    (25): ReLU(inplace=True)\n",
            "    (26): MaxPool2d(kernel_size=2, stride=2, padding=0, dilation=1, ceil_mode=False)\n",
            "    (27): Conv2d(246, 308, kernel_size=(3, 3), stride=(1, 1), padding=(1, 1), bias=False)\n",
            "    (28): BatchNorm2d(308, eps=1e-05, momentum=0.1, affine=True, track_running_stats=True)\n",
            "    (29): ReLU(inplace=True)\n",
            "    (30): Conv2d(308, 188, kernel_size=(3, 3), stride=(1, 1), padding=(1, 1), bias=False)\n",
            "    (31): BatchNorm2d(188, eps=1e-05, momentum=0.1, affine=True, track_running_stats=True)\n",
            "    (32): ReLU(inplace=True)\n",
            "    (33): Conv2d(188, 171, kernel_size=(3, 3), stride=(1, 1), padding=(1, 1), bias=False)\n",
            "    (34): BatchNorm2d(171, eps=1e-05, momentum=0.1, affine=True, track_running_stats=True)\n",
            "    (35): ReLU(inplace=True)\n",
            "    (36): Conv2d(171, 114, kernel_size=(3, 3), stride=(1, 1), padding=(1, 1), bias=False)\n",
            "    (37): BatchNorm2d(114, eps=1e-05, momentum=0.1, affine=True, track_running_stats=True)\n",
            "    (38): ReLU(inplace=True)\n",
            "    (39): MaxPool2d(kernel_size=2, stride=2, padding=0, dilation=1, ceil_mode=False)\n",
            "    (40): Conv2d(114, 89, kernel_size=(3, 3), stride=(1, 1), padding=(1, 1), bias=False)\n",
            "    (41): BatchNorm2d(89, eps=1e-05, momentum=0.1, affine=True, track_running_stats=True)\n",
            "    (42): ReLU(inplace=True)\n",
            "    (43): Conv2d(89, 106, kernel_size=(3, 3), stride=(1, 1), padding=(1, 1), bias=False)\n",
            "    (44): BatchNorm2d(106, eps=1e-05, momentum=0.1, affine=True, track_running_stats=True)\n",
            "    (45): ReLU(inplace=True)\n",
            "    (46): Conv2d(106, 142, kernel_size=(3, 3), stride=(1, 1), padding=(1, 1), bias=False)\n",
            "    (47): BatchNorm2d(142, eps=1e-05, momentum=0.1, affine=True, track_running_stats=True)\n",
            "    (48): ReLU(inplace=True)\n",
            "    (49): Conv2d(142, 248, kernel_size=(3, 3), stride=(1, 1), padding=(1, 1), bias=False)\n",
            "    (50): BatchNorm2d(248, eps=1e-05, momentum=0.1, affine=True, track_running_stats=True)\n",
            "    (51): ReLU(inplace=True)\n",
            "  )\n",
            "  (classifier): Linear(in_features=248, out_features=10, bias=True)\n",
            ")\n",
            "Files already downloaded and verified\n",
            "\n",
            "Test set: Accuracy: 1000/10000 (10.0%)\n",
            "\n"
          ]
        },
        {
          "output_type": "execute_result",
          "data": {
            "text/plain": [
              "tensor(0.1000)"
            ]
          },
          "metadata": {},
          "execution_count": 12
        }
      ]
    }
  ]
}